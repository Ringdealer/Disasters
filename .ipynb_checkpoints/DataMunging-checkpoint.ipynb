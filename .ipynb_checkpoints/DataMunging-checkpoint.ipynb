{
 "cells": [
  {
   "cell_type": "code",
   "execution_count": 1,
   "metadata": {},
   "outputs": [],
   "source": [
    "import os\n",
    "import re\n",
    "import pandas as pd"
   ]
  },
  {
   "cell_type": "code",
   "execution_count": 2,
   "metadata": {},
   "outputs": [],
   "source": [
    "os.chdir(\"C:/Users/Loverboy/PycharmProjects/ForestFires\")"
   ]
  },
  {
   "cell_type": "code",
   "execution_count": 3,
   "metadata": {},
   "outputs": [],
   "source": [
    "\n",
    "\n",
    "\n",
    "def convert_to_int(df, column, pattern):\n",
    "    # Method for converting strings to int using regex\n",
    "    i = 0\n",
    "    for word in df[column]:\n",
    "        if isinstance(word, str):\n",
    "            if re.search(pattern, word):\n",
    "                if re.search(pattern, word).group().isdigit():\n",
    "                    df.at[i, column] = int(re.search(pattern, word).group())\n",
    "                    i += 1\n",
    "        else:\n",
    "            i += 1\n",
    "\n",
    "    return df\n",
    "\n",
    "\n",
    "def convert_to_nan(df, column):\n",
    "    i = 0\n",
    "    for word in df[column]:\n",
    "        if isinstance(word, str):\n",
    "            df.at[i, column] = None\n",
    "        i += 1\n",
    "\n",
    "    return df\n",
    "\n",
    "\n",
    "def fill_na(df, column):\n",
    "    i = 0\n",
    "    for word in df[column]:\n",
    "        if word is None:\n",
    "            df.at[i, column] = 0\n",
    "        i += 1\n",
    "\n",
    "    return df\n",
    "\n",
    "\n",
    "def convert_and_assign(orig_df, mod_df, col1, col2, pattern):\n",
    "    # Method for converting strings to int using regex\n",
    "    i = 0\n",
    "    for word in orig_df[col1]:\n",
    "        if isinstance(word, str):\n",
    "            if re.search(pattern, word):\n",
    "                if re.search(pattern, word).group().isdigit():\n",
    "                    mod_df.at[i, col2] = re.search(pattern, word).group()\n",
    "                    i += 1\n",
    "        else:\n",
    "            i += 1\n",
    "\n",
    "    return mod_df\n"
   ]
  }
 ],
 "metadata": {
  "kernelspec": {
   "display_name": "Python 3",
   "language": "python",
   "name": "python3"
  },
  "language_info": {
   "codemirror_mode": {
    "name": "ipython",
    "version": 3
   },
   "file_extension": ".py",
   "mimetype": "text/x-python",
   "name": "python",
   "nbconvert_exporter": "python",
   "pygments_lexer": "ipython3",
   "version": "3.7.6"
  }
 },
 "nbformat": 4,
 "nbformat_minor": 4
}
