{
 "cells": [
  {
   "cell_type": "code",
   "execution_count": 1,
   "metadata": {},
   "outputs": [],
   "source": [
    "# Standard library imports\n",
    "from io import StringIO\n",
    "import importlib\n",
    "import math\n",
    "import os\n",
    "import pdb\n",
    "import re\n",
    "import regex\n",
    "import sys \n",
    "\n",
    "# Third party imports\n",
    "import dateparser\n",
    "import reverse_geocoder as rg\n",
    "import numpy as np\n",
    "import pandas as pd\n",
    "\n",
    "# Local application imports\n",
    "import mender_tools as mt"
   ]
  },
  {
   "cell_type": "markdown",
   "metadata": {},
   "source": [
    "# Reading the csv file into a dataframe"
   ]
  },
  {
   "cell_type": "code",
   "execution_count": 13,
   "metadata": {},
   "outputs": [],
   "source": [
    "df = pd.read_csv('blazes/fires.csv')"
   ]
  },
  {
   "cell_type": "markdown",
   "metadata": {},
   "source": [
    "# Set options to display all rows and columns in Jupyter notebook"
   ]
  },
  {
   "cell_type": "code",
   "execution_count": 2,
   "metadata": {},
   "outputs": [],
   "source": [
    "pd.set_option('display.max_rows', None)\n",
    "pd.set_option('display.max_columns', None)\n",
    "pd.set_option('display.width', None)\n",
    "pd.set_option('display.max_colwidth', None)"
   ]
  },
  {
   "cell_type": "markdown",
   "metadata": {},
   "source": [
    "# Checking out the dataframe"
   ]
  },
  {
   "cell_type": "code",
   "execution_count": 14,
   "metadata": {},
   "outputs": [
    {
     "data": {
      "text/plain": [
       "(109, 10)"
      ]
     },
     "execution_count": 14,
     "metadata": {},
     "output_type": "execute_result"
    }
   ],
   "source": [
    "df.shape"
   ]
  },
  {
   "cell_type": "code",
   "execution_count": null,
   "metadata": {},
   "outputs": [],
   "source": [
    "df.dtypes"
   ]
  },
  {
   "cell_type": "code",
   "execution_count": null,
   "metadata": {},
   "outputs": [],
   "source": [
    "df.head()"
   ]
  },
  {
   "cell_type": "markdown",
   "metadata": {},
   "source": [
    "# Renaming columns names"
   ]
  },
  {
   "cell_type": "code",
   "execution_count": null,
   "metadata": {},
   "outputs": [],
   "source": [
    "df.columns"
   ]
  },
  {
   "cell_type": "code",
   "execution_count": 15,
   "metadata": {},
   "outputs": [],
   "source": [
    "df.columns = ['Cause', 'Coordinates', 'Date', 'Fuels Involved', 'Incident', 'Incident Type', 'Location', 'Perimeter Contained (%)', 'Personnel Involved', 'Fire Size (Acres)']"
   ]
  },
  {
   "cell_type": "markdown",
   "metadata": {},
   "source": [
    "# Removing rows with all values missing and striping whitespaces"
   ]
  },
  {
   "cell_type": "code",
   "execution_count": 16,
   "metadata": {},
   "outputs": [
    {
     "data": {
      "text/plain": [
       "9"
      ]
     },
     "execution_count": 16,
     "metadata": {},
     "output_type": "execute_result"
    }
   ],
   "source": [
    "# Checking total number of rows with all cells empty\n",
    "df.isnull().all(axis=1).sum()\n"
   ]
  },
  {
   "cell_type": "code",
   "execution_count": 17,
   "metadata": {},
   "outputs": [],
   "source": [
    "# Drop all the rows with all cells empty\n",
    "df.dropna(how='all', inplace=True)"
   ]
  },
  {
   "cell_type": "code",
   "execution_count": 18,
   "metadata": {},
   "outputs": [
    {
     "name": "stdout",
     "output_type": "stream",
     "text": [
      "False\n"
     ]
    }
   ],
   "source": [
    "# Locate rows of duplicate data\n",
    "dups = df.duplicated()\n",
    "print(dups.any())"
   ]
  },
  {
   "cell_type": "code",
   "execution_count": 19,
   "metadata": {},
   "outputs": [],
   "source": [
    "# Reseting the index of the dataframe\n",
    "df.reset_index(drop = True, inplace = True)"
   ]
  },
  {
   "cell_type": "code",
   "execution_count": 20,
   "metadata": {},
   "outputs": [],
   "source": [
    "# Remove trailing and leading whitespaces\n",
    "df.loc[:,:] = df.applymap(lambda x: x.strip() if type(x)==str else x)"
   ]
  },
  {
   "cell_type": "markdown",
   "metadata": {},
   "source": [
    "# Making a backup"
   ]
  },
  {
   "cell_type": "code",
   "execution_count": 21,
   "metadata": {},
   "outputs": [],
   "source": [
    "''' In order to make a copy of the dataframe we need two different instances of the dataframe, if we don't do that any changes\n",
    "made to any of the variables that reference to dataframe will modify the other one. In that case we use the method copy().'''\n",
    "wildfire_df = df.copy()"
   ]
  },
  {
   "cell_type": "markdown",
   "metadata": {},
   "source": [
    "# Arrange Numeric Columns"
   ]
  },
  {
   "cell_type": "markdown",
   "metadata": {},
   "source": [
    "## Preparing column 'Fire Size (Acres)'"
   ]
  },
  {
   "cell_type": "code",
   "execution_count": null,
   "metadata": {},
   "outputs": [],
   "source": [
    "# Copy values of acres in column 'Personnel Involved' that pertain to column 'Fire Size (Acres)'\n",
    "wildfire_df = mt.emend_values(df, wildfire_df, 'Personnel Involved', 'Fire Size (Acres)', r'.*\\s*Acres')"
   ]
  },
  {
   "cell_type": "code",
   "execution_count": null,
   "metadata": {},
   "outputs": [],
   "source": [
    "# Remove the string 'Acres' that comes along with the digits\n",
    "wildfire_df = mt.strip_symbol(wildfire_df, 'Fire Size (Acres)', 'Acres')"
   ]
  },
  {
   "cell_type": "code",
   "execution_count": null,
   "metadata": {},
   "outputs": [],
   "source": [
    "# Convert the string digits to integer values\n",
    "wildfire_df = mt.convert_to_int(wildfire_df, 'Fire Size (Acres)')"
   ]
  },
  {
   "cell_type": "code",
   "execution_count": null,
   "metadata": {},
   "outputs": [],
   "source": [
    " # Check for value types \n",
    "wildfire_df['Fire Size (Acres)'].apply(type)"
   ]
  },
  {
   "cell_type": "markdown",
   "metadata": {},
   "source": [
    "## Preparing column 'Perimeter Contained (%)'"
   ]
  },
  {
   "cell_type": "code",
   "execution_count": null,
   "metadata": {},
   "outputs": [],
   "source": [
    "# Get values in column 'Fire Size (Acres)' that belong to column 'Perimeter Contained (%)'\n",
    "wildfire_df = mt.emend_values(df, wildfire_df, 'Fire Size (Acres)', 'Perimeter Contained (%)', r'^\\d*[.]{0,1}\\d*\\s*%$')"
   ]
  },
  {
   "cell_type": "code",
   "execution_count": null,
   "metadata": {},
   "outputs": [],
   "source": [
    "# Get rid of '%' symbol\n",
    "wildfire_df = mt.strip_symbol(wildfire_df, 'Perimeter Contained (%)', '%')"
   ]
  },
  {
   "cell_type": "code",
   "execution_count": null,
   "metadata": {},
   "outputs": [],
   "source": [
    "# Convert float values to integer\n",
    "wildfire_df = mt.convert_to_int(wildfire_df, 'Perimeter Contained (%)')"
   ]
  },
  {
   "cell_type": "code",
   "execution_count": null,
   "metadata": {},
   "outputs": [],
   "source": [
    "# Total of value types\n",
    "wildfire_df['Perimeter Contained (%)'].apply(type).value_counts()"
   ]
  },
  {
   "cell_type": "code",
   "execution_count": null,
   "metadata": {},
   "outputs": [],
   "source": [
    "# Convert string values to NaN\n",
    "wildfire_df = mt.str_to_nan(wildfire_df, 'Perimeter Contained (%)')"
   ]
  },
  {
   "cell_type": "code",
   "execution_count": null,
   "metadata": {},
   "outputs": [],
   "source": [
    "# Total of value types\n",
    "wildfire_df['Perimeter Contained (%)'].apply(type).value_counts()"
   ]
  },
  {
   "cell_type": "code",
   "execution_count": null,
   "metadata": {
    "scrolled": true
   },
   "outputs": [],
   "source": [
    "# Total of null values\n",
    "wildfire_df['Perimeter Contained (%)'].isnull().sum()"
   ]
  },
  {
   "cell_type": "markdown",
   "metadata": {},
   "source": [
    "## Preparing column 'Personnel Involved'"
   ]
  },
  {
   "cell_type": "code",
   "execution_count": null,
   "metadata": {},
   "outputs": [],
   "source": [
    "# Check elements type\n",
    "wildfire_df['Personnel Involved'].apply(type)"
   ]
  },
  {
   "cell_type": "code",
   "execution_count": null,
   "metadata": {},
   "outputs": [],
   "source": [
    "# Get total value types\n",
    "wildfire_df['Personnel Involved'].apply(type).value_counts()"
   ]
  },
  {
   "cell_type": "code",
   "execution_count": null,
   "metadata": {},
   "outputs": [],
   "source": [
    "# Get total sum of null values\n",
    "wildfire_df['Personnel Involved'].isnull().sum()"
   ]
  },
  {
   "cell_type": "code",
   "execution_count": null,
   "metadata": {},
   "outputs": [],
   "source": [
    "# Convert string digits to int\n",
    "wildfire_df = mt.convert_to_int(wildfire_df, 'Personnel Involved')"
   ]
  },
  {
   "cell_type": "code",
   "execution_count": null,
   "metadata": {},
   "outputs": [],
   "source": [
    "# Convert no digits strings to NANs\n",
    "wildfire_df = mt.str_to_nan(wildfire_df, 'Personnel Involved')"
   ]
  },
  {
   "cell_type": "code",
   "execution_count": null,
   "metadata": {},
   "outputs": [],
   "source": [
    "wildfire_df = mt.convert_to_string(wildfire_df, 'Personnel Involved')"
   ]
  },
  {
   "cell_type": "code",
   "execution_count": null,
   "metadata": {},
   "outputs": [],
   "source": [
    "# Set column to 'Int64' to have a column both with integer and NAN values\n",
    "wildfire_df['Personnel Involved'] = wildfire_df['Personnel Involved'] .astype('Int64')"
   ]
  },
  {
   "cell_type": "code",
   "execution_count": null,
   "metadata": {},
   "outputs": [],
   "source": [
    "# Show value type for shown columns side by side\n",
    "wildfire_df[['Fire Size (Acres)','Personnel Involved','Perimeter Contained (%)']].applymap(type)"
   ]
  },
  {
   "cell_type": "code",
   "execution_count": null,
   "metadata": {},
   "outputs": [],
   "source": [
    "# To finalize the numeric columns preparation we save the dataframe as a csv file\n",
    "wildfire_df.to_csv('blazes/fires_v2.csv', index = False)"
   ]
  },
  {
   "cell_type": "markdown",
   "metadata": {},
   "source": [
    "# Arrange Categorical Columns"
   ]
  },
  {
   "cell_type": "markdown",
   "metadata": {},
   "source": [
    "## Preparing Column 'Coordinates'"
   ]
  },
  {
   "cell_type": "code",
   "execution_count": 10,
   "metadata": {},
   "outputs": [],
   "source": [
    "# Read the csv file into a new dataframe\n",
    "wildf = pd.read_csv('blazes/fires_v2.csv')"
   ]
  },
  {
   "cell_type": "code",
   "execution_count": 11,
   "metadata": {},
   "outputs": [],
   "source": [
    "# Make a copy of the dataframe\n",
    "wildf_dfv2 = wildf.copy()"
   ]
  },
  {
   "cell_type": "code",
   "execution_count": 22,
   "metadata": {},
   "outputs": [],
   "source": [
    "# Copy the values from column 'Location' to the corresponding cells in column 'Coordinates'\n",
    "wildf_dfv2 = mt.emend_values(df, wildf_dfv2, 'Location', 'Coordinates', r'-?\\d+\\.?\\d+\\s*latitude,?\\s*-?\\d+\\.?\\d+\\s*longitude')"
   ]
  },
  {
   "cell_type": "code",
   "execution_count": 23,
   "metadata": {},
   "outputs": [],
   "source": [
    "# Copy the values from column 'Cause' to the corresponding cells in column 'Coordinates'\n",
    "wildf_dfv2 = mt.emend_values(df, wildf_dfv2, 'Cause', 'Coordinates', r'-?\\d+\\.?\\d+\\s*latitude,?\\s*-?\\d+\\.?\\d+\\s*longitude')"
   ]
  },
  {
   "cell_type": "code",
   "execution_count": 24,
   "metadata": {},
   "outputs": [
    {
     "data": {
      "text/plain": [
       "11"
      ]
     },
     "execution_count": 24,
     "metadata": {},
     "output_type": "execute_result"
    }
   ],
   "source": [
    "wildf_dfv2['Coordinates'].isnull().sum()"
   ]
  },
  {
   "cell_type": "code",
   "execution_count": 25,
   "metadata": {},
   "outputs": [],
   "source": [
    "# Create a new column 'Latitude' with the values that go along with 'latitude' in column 'Coordinates'\n",
    "wildf_dfv2 = mt.create_new_col(wildf_dfv2, r'-?\\d+\\.?\\d+\\s*(?=latitude)', 'Coordinates', 'Latitude')"
   ]
  },
  {
   "cell_type": "code",
   "execution_count": 26,
   "metadata": {},
   "outputs": [],
   "source": [
    "# Create a new column 'Longitude' with the values that go along with 'longitude' in column 'Coordinates'\n",
    "wildf_dfv2 = mt.create_new_col(wildf_dfv2, r'-?\\d+\\.?\\d+\\s*(?=longitude)', 'Coordinates', 'Longitude')"
   ]
  },
  {
   "cell_type": "code",
   "execution_count": 27,
   "metadata": {},
   "outputs": [
    {
     "data": {
      "text/plain": [
       "<class 'str'>    100\n",
       "Name: Latitude, dtype: int64"
      ]
     },
     "execution_count": 27,
     "metadata": {},
     "output_type": "execute_result"
    }
   ],
   "source": [
    "# Show value types totals\n",
    "wildf_dfv2['Latitude'].apply(type).value_counts()"
   ]
  },
  {
   "cell_type": "code",
   "execution_count": 28,
   "metadata": {},
   "outputs": [
    {
     "data": {
      "text/plain": [
       "37"
      ]
     },
     "execution_count": 28,
     "metadata": {},
     "output_type": "execute_result"
    }
   ],
   "source": [
    "# Show empty strings totals\n",
    "(wildf_dfv2['Latitude'] == '').sum()"
   ]
  },
  {
   "cell_type": "code",
   "execution_count": 29,
   "metadata": {},
   "outputs": [],
   "source": [
    "# Fill empty strings with NaNs values in column 'Longitude'\n",
    "wildf_dfv2['Longitude'].replace(r'^\\s*$', np.nan, regex=True, inplace = True)"
   ]
  },
  {
   "cell_type": "code",
   "execution_count": 30,
   "metadata": {},
   "outputs": [],
   "source": [
    "# Fill empty strings with NaNs values in column 'Latitude'\n",
    "wildf_dfv2['Latitude'].replace(r'^\\s*$', np.nan, regex=True, inplace = True)"
   ]
  },
  {
   "cell_type": "code",
   "execution_count": 31,
   "metadata": {},
   "outputs": [
    {
     "data": {
      "text/plain": [
       "<class 'str'>      63\n",
       "<class 'float'>    37\n",
       "Name: Latitude, dtype: int64"
      ]
     },
     "execution_count": 31,
     "metadata": {},
     "output_type": "execute_result"
    }
   ],
   "source": [
    "# Show value types totals\n",
    "wildf_dfv2['Latitude'].apply(type).value_counts()"
   ]
  },
  {
   "cell_type": "code",
   "execution_count": 32,
   "metadata": {},
   "outputs": [
    {
     "data": {
      "text/plain": [
       "37"
      ]
     },
     "execution_count": 32,
     "metadata": {},
     "output_type": "execute_result"
    }
   ],
   "source": [
    "# Show null values totals\n",
    "wildf_dfv2['Latitude'].isnull().sum()"
   ]
  },
  {
   "cell_type": "code",
   "execution_count": 33,
   "metadata": {},
   "outputs": [],
   "source": [
    "# Convert strings to float in column 'Latitude'\n",
    "wildf_dfv2['Latitude'] = pd.to_numeric(wildf_dfv2['Latitude'], downcast='float')"
   ]
  },
  {
   "cell_type": "code",
   "execution_count": 34,
   "metadata": {},
   "outputs": [],
   "source": [
    "# Convert strings to float in column 'Longitude'\n",
    "wildf_dfv2['Longitude'] = pd.to_numeric(wildf_dfv2['Longitude'], downcast='float')"
   ]
  },
  {
   "cell_type": "code",
   "execution_count": 35,
   "metadata": {},
   "outputs": [],
   "source": [
    "# Drop column 'Coordinates'\n",
    "wildf_dfv2.drop(['Coordinates'], axis=1, inplace=True)"
   ]
  },
  {
   "cell_type": "markdown",
   "metadata": {},
   "source": [
    "## Preparing Column 'Date'"
   ]
  },
  {
   "cell_type": "code",
   "execution_count": 36,
   "metadata": {},
   "outputs": [],
   "source": [
    "# Copy the values from column 'Cause' to the corresponding cells in column 'Date'\n",
    "wildf_dfv2 = mt.emend_values(df, wildf_dfv2, 'Cause', 'Date', r'(\\d{2}:\\d{2}\\s?(AM|PM))$')"
   ]
  },
  {
   "cell_type": "code",
   "execution_count": 37,
   "metadata": {},
   "outputs": [],
   "source": [
    "# Remove string 'approx.' from the string containing the day and hour\n",
    "wildf_dfv2 = mt.strip_symbol(wildf_dfv2, 'Date', 'approx.')"
   ]
  },
  {
   "cell_type": "code",
   "execution_count": 38,
   "metadata": {},
   "outputs": [],
   "source": [
    "# Convert date entries from 'Date' column to ISO format\n",
    "wildf_dfv2 = mt.convert_to_isodate(wildf_dfv2, 'Date')"
   ]
  },
  {
   "cell_type": "code",
   "execution_count": 39,
   "metadata": {},
   "outputs": [
    {
     "data": {
      "text/html": [
       "<div>\n",
       "<style scoped>\n",
       "    .dataframe tbody tr th:only-of-type {\n",
       "        vertical-align: middle;\n",
       "    }\n",
       "\n",
       "    .dataframe tbody tr th {\n",
       "        vertical-align: top;\n",
       "    }\n",
       "\n",
       "    .dataframe thead th {\n",
       "        text-align: right;\n",
       "    }\n",
       "</style>\n",
       "<table border=\"1\" class=\"dataframe\">\n",
       "  <thead>\n",
       "    <tr style=\"text-align: right;\">\n",
       "      <th></th>\n",
       "      <th>Date</th>\n",
       "      <th>ISO Date</th>\n",
       "    </tr>\n",
       "  </thead>\n",
       "  <tbody>\n",
       "    <tr>\n",
       "      <th>0</th>\n",
       "      <td>Saturday August 15th, 2020    07:15 AM</td>\n",
       "      <td>2020-08-15T07:15:00</td>\n",
       "    </tr>\n",
       "    <tr>\n",
       "      <th>1</th>\n",
       "      <td>Saturday August 01st, 2020    04:30 PM</td>\n",
       "      <td>2020-08-01T16:30:00</td>\n",
       "    </tr>\n",
       "    <tr>\n",
       "      <th>2</th>\n",
       "      <td>Thursday August 13th, 2020    03:15 PM</td>\n",
       "      <td>2020-08-13T15:15:00</td>\n",
       "    </tr>\n",
       "    <tr>\n",
       "      <th>3</th>\n",
       "      <td>Friday July 31st, 2020    05:15 PM</td>\n",
       "      <td>2020-07-31T17:15:00</td>\n",
       "    </tr>\n",
       "    <tr>\n",
       "      <th>4</th>\n",
       "      <td>Friday August 14th, 2020    11:43 AM</td>\n",
       "      <td>2020-08-14T11:43:00</td>\n",
       "    </tr>\n",
       "  </tbody>\n",
       "</table>\n",
       "</div>"
      ],
      "text/plain": [
       "                                     Date             ISO Date\n",
       "0  Saturday August 15th, 2020    07:15 AM  2020-08-15T07:15:00\n",
       "1  Saturday August 01st, 2020    04:30 PM  2020-08-01T16:30:00\n",
       "2  Thursday August 13th, 2020    03:15 PM  2020-08-13T15:15:00\n",
       "3      Friday July 31st, 2020    05:15 PM  2020-07-31T17:15:00\n",
       "4    Friday August 14th, 2020    11:43 AM  2020-08-14T11:43:00"
      ]
     },
     "execution_count": 39,
     "metadata": {},
     "output_type": "execute_result"
    }
   ],
   "source": [
    "# Show columns 'Date' and 'ISO Date' side by side\n",
    "wildf_dfv2.loc[:,['Date', 'ISO Date']].head()"
   ]
  },
  {
   "cell_type": "code",
   "execution_count": 40,
   "metadata": {},
   "outputs": [],
   "source": [
    "# Drop column 'Date'\n",
    "wildf_dfv2.drop(['Date'], axis=1, inplace=True)"
   ]
  },
  {
   "cell_type": "markdown",
   "metadata": {},
   "source": [
    "## Preparing Column 'Cause'"
   ]
  },
  {
   "cell_type": "code",
   "execution_count": 41,
   "metadata": {},
   "outputs": [],
   "source": [
    "# Get rid of strings of dates\n",
    "wildf_dfv2 = mt.strip_string(wildf_dfv2, 'Cause', r'-?\\d+\\.?\\d+\\s*latitude,?\\s*-?\\d+\\.?\\d+\\s*longitude')"
   ]
  },
  {
   "cell_type": "code",
   "execution_count": 42,
   "metadata": {},
   "outputs": [],
   "source": [
    "# Get rid of strings of coordinates\n",
    "wildf_dfv2 = mt.strip_string(wildf_dfv2, 'Cause', r'(\\d{2}:\\d{2}\\s?(AM|PM))$')"
   ]
  },
  {
   "cell_type": "code",
   "execution_count": 43,
   "metadata": {},
   "outputs": [],
   "source": [
    "# Remove trailing and leading whitespaces\n",
    "wildf_dfv2.loc[:, 'Cause'] = wildf_dfv2.loc[:, 'Cause'].apply(lambda x: x.strip() if type(x)==str else x)"
   ]
  },
  {
   "cell_type": "code",
   "execution_count": 44,
   "metadata": {},
   "outputs": [],
   "source": [
    "# Replace empty strings with NaN values\n",
    "wildf_dfv2['Cause'].replace(r'^\\s*$', np.nan, regex=True, inplace = True)"
   ]
  },
  {
   "cell_type": "code",
   "execution_count": 45,
   "metadata": {},
   "outputs": [
    {
     "name": "stdout",
     "output_type": "stream",
     "text": [
      "{'Piece From Faulty Catalytic Converter', 'Human-caused - Suspected Arson', 'Under Investigation', 'Human Caused, Under Investigation', 'Unkown', 'Human', 'Human-caused', 'Lightning/natural', 'Natural, Lightning', 'Debris Burning', 'Accidental Roadside Start', 'Unknown, Under Investigation', 'Human Caused', 'Lightning', 'Powerline', 'Unknown'}\n"
     ]
    }
   ],
   "source": [
    "# Create and populate set with causes of fire\n",
    "causes = set()\n",
    "for item in wildf_dfv2['Cause']:\n",
    "    if isinstance(item, str):\n",
    "        if item not in causes:\n",
    "            causes.add(item)\n",
    "print(causes)"
   ]
  },
  {
   "cell_type": "code",
   "execution_count": 46,
   "metadata": {
    "scrolled": true
   },
   "outputs": [
    {
     "name": "stdout",
     "output_type": "stream",
     "text": [
      "1 -> Piece From Faulty Catalytic Converter\n",
      "2 -> Human-caused - Suspected Arson\n",
      "3 -> Under Investigation\n",
      "4 -> Human Caused, Under Investigation\n",
      "5 -> Unkown\n",
      "6 -> Human\n",
      "7 -> Human-caused\n",
      "8 -> Lightning/natural\n",
      "9 -> Natural, Lightning\n",
      "10 -> Debris Burning\n",
      "11 -> Accidental Roadside Start\n",
      "12 -> Unknown, Under Investigation\n",
      "13 -> Human Caused\n",
      "14 -> Lightning\n",
      "15 -> Powerline\n",
      "16 -> Unknown\n"
     ]
    }
   ],
   "source": [
    "# List causes of fire from set 'causes'\n",
    "i=1\n",
    "for item in causes:\n",
    "    print(i,'->',item)\n",
    "    i += 1"
   ]
  },
  {
   "cell_type": "code",
   "execution_count": 47,
   "metadata": {},
   "outputs": [],
   "source": [
    "# Ad hoc function for replacing and fixing redundant values in column 'Cause'\n",
    "result = \"\"\n",
    "def is_match(pattern, x, word):\n",
    "    global result\n",
    "    if isinstance(x, str):\n",
    "        match = re.search(pattern, x)\n",
    "        if match:\n",
    "            result = x.replace(match.string, word)\n",
    "        else:\n",
    "            return False\n",
    "    else:\n",
    "        return False\n",
    "    return True    "
   ]
  },
  {
   "cell_type": "code",
   "execution_count": 48,
   "metadata": {},
   "outputs": [],
   "source": [
    "# Using function 'is_match' with a lambda function\n",
    "wildf_dfv2.loc[:, 'Cause'] = wildf_dfv2.loc\\\n",
    "[:, 'Cause'].apply(lambda x:x.replace(x, result) if\\\n",
    "is_match(r'Lightning', x, 'Lightning') else x)"
   ]
  },
  {
   "cell_type": "code",
   "execution_count": 49,
   "metadata": {},
   "outputs": [],
   "source": [
    "# Using function 'is_match' with a lambda function\n",
    "wildf_dfv2.loc[:, 'Cause'] = wildf_dfv2.loc\\\n",
    "[:, 'Cause'].apply(lambda x:x.replace(x, result)\\\n",
    "if is_match(r'Human', x, 'Human Caused') else x)"
   ]
  },
  {
   "cell_type": "code",
   "execution_count": 50,
   "metadata": {},
   "outputs": [],
   "source": [
    "# Using function 'is_match' with a lambda function\n",
    "wildf_dfv2.loc[:, 'Cause'] = wildf_dfv2.loc\\\n",
    "[:, 'Cause'].apply(lambda x:x.replace(x, result)\\\n",
    "                   if is_match(r'Unk[n]?own', x, 'Unknown') else x)"
   ]
  },
  {
   "cell_type": "code",
   "execution_count": 51,
   "metadata": {},
   "outputs": [
    {
     "data": {
      "text/plain": [
       "0          NaN\n",
       "1    Lightning\n",
       "2    Powerline\n",
       "3    Lightning\n",
       "4      Unknown\n",
       "Name: Cause, dtype: object"
      ]
     },
     "execution_count": 51,
     "metadata": {},
     "output_type": "execute_result"
    }
   ],
   "source": [
    "wildf_dfv2.loc[:, 'Cause'].head()"
   ]
  },
  {
   "cell_type": "markdown",
   "metadata": {
    "pycharm": {
     "name": "#%% md\n"
    }
   },
   "source": [
    "## Creating column Region"
   ]
  },
  {
   "cell_type": "code",
   "execution_count": 52,
   "metadata": {},
   "outputs": [],
   "source": [
    "# Get the location given by latitude and longitude coordinates\n",
    "def get_location(coordinates):\n",
    "    return rg.search(coordinates)"
   ]
  },
  {
   "cell_type": "code",
   "execution_count": 53,
   "metadata": {},
   "outputs": [],
   "source": [
    "# Function for creating column 'Region' based on coordinates data\n",
    "def create_region_col(df):\n",
    "    i = 0\n",
    "    for latitude, longitude in zip(wildf_dfv2['Latitude'], wildf_dfv2['Longitude']):        \n",
    "        if (not math.isnan(latitude) and not math.isnan(longitude)):\n",
    "           coordinates = (latitude, longitude)\n",
    "           location = get_location(coordinates)\n",
    "           df.at[i, 'Region'] = list(location[0].values())[3]\n",
    "           i += 1            \n",
    "        else:\n",
    "           i += 1"
   ]
  },
  {
   "cell_type": "code",
   "execution_count": 54,
   "metadata": {
    "pycharm": {
     "name": "#%%\n"
    }
   },
   "outputs": [
    {
     "name": "stdout",
     "output_type": "stream",
     "text": [
      "Loading formatted geocoded file...\n"
     ]
    }
   ],
   "source": [
    "# Call to function create_region_col. Could take over a minute depending on your pc hardware.\n",
    "create_region_col(wildf_dfv2)"
   ]
  },
  {
   "cell_type": "code",
   "execution_count": 55,
   "metadata": {},
   "outputs": [
    {
     "data": {
      "text/plain": [
       "37"
      ]
     },
     "execution_count": 55,
     "metadata": {},
     "output_type": "execute_result"
    }
   ],
   "source": [
    "# Checking null values after last call to create_region_col\n",
    "wildf_dfv2.loc[:,  'Region'].isnull().sum()"
   ]
  },
  {
   "cell_type": "code",
   "execution_count": 56,
   "metadata": {
    "pycharm": {
     "name": "#%%\n"
    },
    "scrolled": true
   },
   "outputs": [
    {
     "data": {
      "text/html": [
       "<div>\n",
       "<style scoped>\n",
       "    .dataframe tbody tr th:only-of-type {\n",
       "        vertical-align: middle;\n",
       "    }\n",
       "\n",
       "    .dataframe tbody tr th {\n",
       "        vertical-align: top;\n",
       "    }\n",
       "\n",
       "    .dataframe thead th {\n",
       "        text-align: right;\n",
       "    }\n",
       "</style>\n",
       "<table border=\"1\" class=\"dataframe\">\n",
       "  <thead>\n",
       "    <tr style=\"text-align: right;\">\n",
       "      <th></th>\n",
       "      <th>Location</th>\n",
       "      <th>Latitude</th>\n",
       "      <th>Longitude</th>\n",
       "      <th>Region</th>\n",
       "    </tr>\n",
       "  </thead>\n",
       "  <tbody>\n",
       "    <tr>\n",
       "      <th>15</th>\n",
       "      <td>25 miles west of Cody, Wyo</td>\n",
       "      <td>44.459000</td>\n",
       "      <td>-109.546997</td>\n",
       "      <td>Wyoming</td>\n",
       "    </tr>\n",
       "    <tr>\n",
       "      <th>16</th>\n",
       "      <td>17 miles southwest of Stevens Village</td>\n",
       "      <td>65.853996</td>\n",
       "      <td>-149.578995</td>\n",
       "      <td>Alaska</td>\n",
       "    </tr>\n",
       "    <tr>\n",
       "      <th>17</th>\n",
       "      <td>Darrell Willis, DFFM</td>\n",
       "      <td>33.806999</td>\n",
       "      <td>-112.119003</td>\n",
       "      <td>Arizona</td>\n",
       "    </tr>\n",
       "    <tr>\n",
       "      <th>18</th>\n",
       "      <td>NE of New River</td>\n",
       "      <td>NaN</td>\n",
       "      <td>NaN</td>\n",
       "      <td>NaN</td>\n",
       "    </tr>\n",
       "    <tr>\n",
       "      <th>19</th>\n",
       "      <td>Superstition Mountains</td>\n",
       "      <td>33.418999</td>\n",
       "      <td>-111.301003</td>\n",
       "      <td>Arizona</td>\n",
       "    </tr>\n",
       "    <tr>\n",
       "      <th>20</th>\n",
       "      <td>Split Mountain</td>\n",
       "      <td>NaN</td>\n",
       "      <td>NaN</td>\n",
       "      <td>NaN</td>\n",
       "    </tr>\n",
       "    <tr>\n",
       "      <th>21</th>\n",
       "      <td>Up to 38 miles northeast of Mesa, AZ along Hwy 87.</td>\n",
       "      <td>NaN</td>\n",
       "      <td>NaN</td>\n",
       "      <td>NaN</td>\n",
       "    </tr>\n",
       "    <tr>\n",
       "      <th>22</th>\n",
       "      <td>East side of Peavine Mountain</td>\n",
       "      <td>39.576000</td>\n",
       "      <td>-119.913002</td>\n",
       "      <td>Nevada</td>\n",
       "    </tr>\n",
       "    <tr>\n",
       "      <th>23</th>\n",
       "      <td>23 miles from Cortez</td>\n",
       "      <td>NaN</td>\n",
       "      <td>NaN</td>\n",
       "      <td>NaN</td>\n",
       "    </tr>\n",
       "    <tr>\n",
       "      <th>24</th>\n",
       "      <td>5 miles north of Oak City, Utah</td>\n",
       "      <td>NaN</td>\n",
       "      <td>NaN</td>\n",
       "      <td>NaN</td>\n",
       "    </tr>\n",
       "  </tbody>\n",
       "</table>\n",
       "</div>"
      ],
      "text/plain": [
       "                                              Location   Latitude   Longitude  \\\n",
       "15                          25 miles west of Cody, Wyo  44.459000 -109.546997   \n",
       "16               17 miles southwest of Stevens Village  65.853996 -149.578995   \n",
       "17                                Darrell Willis, DFFM  33.806999 -112.119003   \n",
       "18                                     NE of New River        NaN         NaN   \n",
       "19                              Superstition Mountains  33.418999 -111.301003   \n",
       "20                                      Split Mountain        NaN         NaN   \n",
       "21  Up to 38 miles northeast of Mesa, AZ along Hwy 87.        NaN         NaN   \n",
       "22                       East side of Peavine Mountain  39.576000 -119.913002   \n",
       "23                                23 miles from Cortez        NaN         NaN   \n",
       "24                     5 miles north of Oak City, Utah        NaN         NaN   \n",
       "\n",
       "     Region  \n",
       "15  Wyoming  \n",
       "16   Alaska  \n",
       "17  Arizona  \n",
       "18      NaN  \n",
       "19  Arizona  \n",
       "20      NaN  \n",
       "21      NaN  \n",
       "22   Nevada  \n",
       "23      NaN  \n",
       "24      NaN  "
      ]
     },
     "execution_count": 56,
     "metadata": {},
     "output_type": "execute_result"
    }
   ],
   "source": [
    "wildf_dfv2.loc[15:24, ['Location', 'Latitude', 'Longitude', 'Region']]"
   ]
  },
  {
   "cell_type": "markdown",
   "metadata": {},
   "source": [
    "## Appendix A Section"
   ]
  },
  {
   "cell_type": "code",
   "execution_count": 69,
   "metadata": {},
   "outputs": [],
   "source": [
    "wildf_dfv21 = wildf_dfv2.copy()"
   ]
  },
  {
   "cell_type": "code",
   "execution_count": 58,
   "metadata": {
    "pycharm": {
     "name": "#%%\n"
    }
   },
   "outputs": [
    {
     "data": {
      "text/plain": [
       "37"
      ]
     },
     "execution_count": 58,
     "metadata": {},
     "output_type": "execute_result"
    }
   ],
   "source": [
    "wildf_dfv21['Region'].isnull().sum()"
   ]
  },
  {
   "cell_type": "code",
   "execution_count": 62,
   "metadata": {},
   "outputs": [],
   "source": [
    "# Dictionary with US states names and their abbreviations\n",
    "us_states={'Alabama': 'AL', 'Alaska': 'AK', 'Arizona':'AZ', 'Arkansas':'AR',\n",
    "               'California': 'CA', 'Colorado':'CO', 'Connecticut':'CT', 'Delaware':'DE',\n",
    "               'Florida': 'FL', 'Georgia': 'GA', 'Hawaii': 'HI', 'Idaho': 'ID',\n",
    "               'Illinois': 'IL', 'Indiana': 'IN', 'Iowa': 'IA', 'Kansas': 'KS',\n",
    "               'Kentucky': 'KY', 'Louisiana': 'LA', 'Maine': 'ME', 'Maryland': 'MD',\n",
    "               'Massachusetts': 'MA', 'Michigan': 'MI', 'Minnesota': 'MN', 'Mississippi': 'MS',\n",
    "               'Missouri': 'MO', 'Montana': 'MT', 'Nebraska': 'NE', 'Nevada': 'NV',\n",
    "               'New Hampshire': 'NH', 'New Jersey': 'NJ', 'New Mexico': 'NM', 'New York': 'NY',\n",
    "               'North Carolina': 'NC', 'North Dakota': 'ND', 'Ohio': 'OH', 'Oklahoma': 'OK',\n",
    "               'Oregon': 'OR', 'Pennsylvania': 'PA', 'Rhode Island': 'RI', 'South Carolina': 'SC',\n",
    "               'South Dakota': 'SD', 'Tennessee': 'TN', 'Texas': 'TX', 'Utah': 'UT',\n",
    "               'Vermont': 'VT', 'Virginia': 'VA', 'Washington': 'WA', 'West Virginia': 'WV',\n",
    "               'Wisconsin': 'WI', 'Wyoming': 'WY'  \n",
    "              }\n"
   ]
  },
  {
   "cell_type": "markdown",
   "metadata": {},
   "source": [
    "The next function is on early stage development. Any suggestion to optimize the code and make more modular will be appreciated."
   ]
  },
  {
   "cell_type": "code",
   "execution_count": 71,
   "metadata": {},
   "outputs": [],
   "source": [
    "# Ad hoc function for completing states names in column 'Region' based on column 'Location' data\n",
    "def loc_to_state(df, col):\n",
    "    i=0\n",
    "    flag=0\n",
    "    list_count = 0\n",
    "    wordup = ''\n",
    "    for sentence in df[col]:\n",
    "        if not isinstance(df.at[i,'Region'], str):\n",
    "            if isinstance(sentence, str):\n",
    "                word_list = re.findall(r'\\w+', sentence)\n",
    "                word_list_len = len(word_list)\n",
    "                for word in word_list:\n",
    "                    list_count += 1\n",
    "                    if len(word)>2:\n",
    "                        wordup = word.upper()\n",
    "                    else:\n",
    "                        wordup = word\n",
    "                    for st_name, st_abbrev in us_states.items():\n",
    "                        upper_st = st_name.upper()\n",
    "                        if (wordup == upper_st or wordup == st_abbrev):\n",
    "                            df.at[i,'Region'] = st_name\n",
    "                            i+=1\n",
    "                            flag = 1\n",
    "                            break\n",
    "                    if (list_count == word_list_len and flag ==0):\n",
    "                        list_count = 0\n",
    "                        i+=1\n",
    "                    elif(flag == 1):\n",
    "                        list_count = 0\n",
    "                        flag = 0\n",
    "                        break\n",
    "            else:\n",
    "                i+=1\n",
    "        else:\n",
    "            i+=1"
   ]
  },
  {
   "cell_type": "code",
   "execution_count": 77,
   "metadata": {},
   "outputs": [],
   "source": [
    "# Call to function loc_to_state\n",
    "loc_to_state(wildf_dfv21, 'Location')"
   ]
  },
  {
   "cell_type": "code",
   "execution_count": 101,
   "metadata": {},
   "outputs": [
    {
     "data": {
      "text/plain": [
       "Location    NE of New River\n",
       "Region             Nebraska\n",
       "Name: 18, dtype: object"
      ]
     },
     "execution_count": 101,
     "metadata": {},
     "output_type": "execute_result"
    }
   ],
   "source": [
    "# Subcardinal point Northeast (NE) concurs with Nebraska (NE)\n",
    "wildf_dfv21.loc[18,['Location','Region']]"
   ]
  },
  {
   "cell_type": "code",
   "execution_count": null,
   "metadata": {},
   "outputs": [],
   "source": [
    "# Change the name from Nebraska to Arizona in row 18 \n",
    "wildf_dfv21.at[18, 'Region'] ='Arizona'   "
   ]
  },
  {
   "cell_type": "code",
   "execution_count": 102,
   "metadata": {},
   "outputs": [
    {
     "name": "stdout",
     "output_type": "stream",
     "text": [
      "12 -> Ryan Carbajal\n",
      "20 -> Split Mountain\n",
      "23 -> 23 miles from Cortez\n",
      "26 -> 14 mi. W. Sahuarita\n",
      "33 -> Northeast of Tucson\n",
      "40 -> Wildland Fire\n",
      "53 -> Klamath National Forest\n",
      "56 -> 3 miles East of Tusayan near FR 302 & 2709\n",
      "61 -> Selway-Bitterroot Wilderness, Nez Perce-Clearwater National Forests\n",
      "67 -> Page For Emerging Initial Attack Incidents On The Humboldt-toiyabe National Forest.\n",
      "76 -> 4 miles south of White Wolf Campground and 1 mile west of Lukens Lake Trail\n",
      "78 -> Keyesville Area - Black Gulch North\n",
      "97 -> Peloncilo Mountain Wilderness\n",
      "98 -> SAN GABRIEL CYN RD/ N RANCH RD\n"
     ]
    }
   ],
   "source": [
    "# Listing the rows of 'Location' that will be googled\n",
    "i = 0\n",
    "indexes = list()\n",
    "for item, name in zip(wildf_dfv21['Region'], wildf_dfv21['Location']):\n",
    "    if (isinstance(item, float) and not isinstance(name, float)):\n",
    "        indexes.append(wildf_dfv21.index[wildf_dfv21['Location'] == name].tolist())\n",
    "        print(indexes[i][0], '->', name)\n",
    "        i += 1  "
   ]
  },
  {
   "cell_type": "code",
   "execution_count": 105,
   "metadata": {},
   "outputs": [],
   "source": [
    "# Dictionary with the last states with keys serving as dataframe corresponding indexes\n",
    "last_states = {20:'California', 23:'Colorado', 26: 'Arizona', 33: 'Arizona',\\\n",
    "          53: 'Oregon', 56: 'Arizona', 61: 'Idaho', 67: 'Nevada', 76: 'California',\\\n",
    "           78: 'California', 97: 'Arizona', 98: 'California'}"
   ]
  },
  {
   "cell_type": "code",
   "execution_count": 106,
   "metadata": {},
   "outputs": [],
   "source": [
    "# Set last missing states\n",
    "for key, values in last_states.items():\n",
    "        wildf_dfv21.at[key, 'Region'] = values"
   ]
  },
  {
   "cell_type": "code",
   "execution_count": 109,
   "metadata": {
    "scrolled": true
   },
   "outputs": [
    {
     "data": {
      "text/html": [
       "<div>\n",
       "<style scoped>\n",
       "    .dataframe tbody tr th:only-of-type {\n",
       "        vertical-align: middle;\n",
       "    }\n",
       "\n",
       "    .dataframe tbody tr th {\n",
       "        vertical-align: top;\n",
       "    }\n",
       "\n",
       "    .dataframe thead th {\n",
       "        text-align: right;\n",
       "    }\n",
       "</style>\n",
       "<table border=\"1\" class=\"dataframe\">\n",
       "  <thead>\n",
       "    <tr style=\"text-align: right;\">\n",
       "      <th></th>\n",
       "      <th>Incident</th>\n",
       "      <th>Location</th>\n",
       "      <th>Region</th>\n",
       "    </tr>\n",
       "  </thead>\n",
       "  <tbody>\n",
       "    <tr>\n",
       "      <th>12</th>\n",
       "      <td>Seco</td>\n",
       "      <td>Ryan Carbajal</td>\n",
       "      <td>NaN</td>\n",
       "    </tr>\n",
       "    <tr>\n",
       "      <th>40</th>\n",
       "      <td>Milepost 21</td>\n",
       "      <td>Wildland Fire</td>\n",
       "      <td>NaN</td>\n",
       "    </tr>\n",
       "  </tbody>\n",
       "</table>\n",
       "</div>"
      ],
      "text/plain": [
       "       Incident       Location Region\n",
       "12         Seco  Ryan Carbajal    NaN\n",
       "40  Milepost 21  Wildland Fire    NaN"
      ]
     },
     "execution_count": 109,
     "metadata": {},
     "output_type": "execute_result"
    }
   ],
   "source": [
    "wildf_dfv21.loc[[12,40], ['Incident', 'Location', 'Region']].head(41)"
   ]
  },
  {
   "cell_type": "code",
   "execution_count": null,
   "metadata": {},
   "outputs": [],
   "source": [
    "wildf_dfv21.at[12, 'Region'] = 'New Mexico'\n",
    "wildf_dfv21.at[40, 'Region'] ='California'   "
   ]
  },
  {
   "cell_type": "code",
   "execution_count": 104,
   "metadata": {},
   "outputs": [
    {
     "data": {
      "text/html": [
       "<div>\n",
       "<style scoped>\n",
       "    .dataframe tbody tr th:only-of-type {\n",
       "        vertical-align: middle;\n",
       "    }\n",
       "\n",
       "    .dataframe tbody tr th {\n",
       "        vertical-align: top;\n",
       "    }\n",
       "\n",
       "    .dataframe thead th {\n",
       "        text-align: right;\n",
       "    }\n",
       "</style>\n",
       "<table border=\"1\" class=\"dataframe\">\n",
       "  <thead>\n",
       "    <tr style=\"text-align: right;\">\n",
       "      <th></th>\n",
       "      <th>Incident</th>\n",
       "      <th>Location</th>\n",
       "      <th>Region</th>\n",
       "      <th>Latitude</th>\n",
       "    </tr>\n",
       "  </thead>\n",
       "  <tbody>\n",
       "    <tr>\n",
       "      <th>0</th>\n",
       "      <td>Chimney Fire</td>\n",
       "      <td>32.722 latitude, -99.481 longitude</td>\n",
       "      <td>Texas</td>\n",
       "      <td>32.722000</td>\n",
       "    </tr>\n",
       "    <tr>\n",
       "      <th>1</th>\n",
       "      <td>Cassadore Springs Fire</td>\n",
       "      <td>11 miles north of San Carlos, AZ</td>\n",
       "      <td>Arizona</td>\n",
       "      <td>33.543999</td>\n",
       "    </tr>\n",
       "    <tr>\n",
       "      <th>2</th>\n",
       "      <td>Bucholtz Fire</td>\n",
       "      <td>5 miles east of Eldorado</td>\n",
       "      <td>Texas</td>\n",
       "      <td>30.863001</td>\n",
       "    </tr>\n",
       "    <tr>\n",
       "      <th>3</th>\n",
       "      <td>Pine Gulch Fire</td>\n",
       "      <td>18 miles north of Grand Junction, Colorado</td>\n",
       "      <td>Colorado</td>\n",
       "      <td>NaN</td>\n",
       "    </tr>\n",
       "    <tr>\n",
       "      <th>4</th>\n",
       "      <td>Williams Fork</td>\n",
       "      <td>15 miles NW of Fraser, CO</td>\n",
       "      <td>Colorado</td>\n",
       "      <td>NaN</td>\n",
       "    </tr>\n",
       "    <tr>\n",
       "      <th>5</th>\n",
       "      <td>Klaus</td>\n",
       "      <td>Douglas Ranger District on the Coronado National Forest. 11 miles southwest of Portal, AZ</td>\n",
       "      <td>Arizona</td>\n",
       "      <td>NaN</td>\n",
       "    </tr>\n",
       "    <tr>\n",
       "      <th>6</th>\n",
       "      <td>,</td>\n",
       "      <td>NaN</td>\n",
       "      <td>NaN</td>\n",
       "      <td>NaN</td>\n",
       "    </tr>\n",
       "    <tr>\n",
       "      <th>7</th>\n",
       "      <td>Bradley Fire</td>\n",
       "      <td>42.286 latitude, -107.052 longitude</td>\n",
       "      <td>Wyoming</td>\n",
       "      <td>42.285999</td>\n",
       "    </tr>\n",
       "    <tr>\n",
       "      <th>8</th>\n",
       "      <td>Trash Pile Fire</td>\n",
       "      <td>33.858 latitude, -98.831 longitude</td>\n",
       "      <td>Texas</td>\n",
       "      <td>33.858002</td>\n",
       "    </tr>\n",
       "    <tr>\n",
       "      <th>9</th>\n",
       "      <td>Fields Gulch Fire</td>\n",
       "      <td>Brian McGowan</td>\n",
       "      <td>Montana</td>\n",
       "      <td>46.852001</td>\n",
       "    </tr>\n",
       "    <tr>\n",
       "      <th>10</th>\n",
       "      <td>Lake Creek Fire</td>\n",
       "      <td>43.39 latitude, -105.072 longitude</td>\n",
       "      <td>Wyoming</td>\n",
       "      <td>43.389999</td>\n",
       "    </tr>\n",
       "    <tr>\n",
       "      <th>11</th>\n",
       "      <td>Apple Post-Fire BAER</td>\n",
       "      <td>NaN</td>\n",
       "      <td>California</td>\n",
       "      <td>33.960999</td>\n",
       "    </tr>\n",
       "    <tr>\n",
       "      <th>12</th>\n",
       "      <td>Seco</td>\n",
       "      <td>Ryan Carbajal</td>\n",
       "      <td>NaN</td>\n",
       "      <td>NaN</td>\n",
       "    </tr>\n",
       "    <tr>\n",
       "      <th>13</th>\n",
       "      <td>Bell Fire</td>\n",
       "      <td>Emigrant Wilderness, 1.5 miles southeast of Gianelli Trailhead, and 2 miles east of Crabtree Trailhead</td>\n",
       "      <td>California</td>\n",
       "      <td>38.182999</td>\n",
       "    </tr>\n",
       "    <tr>\n",
       "      <th>14</th>\n",
       "      <td>Lake Fire</td>\n",
       "      <td>Lake Hughes, Unincorporated LA County</td>\n",
       "      <td>Louisiana</td>\n",
       "      <td>NaN</td>\n",
       "    </tr>\n",
       "    <tr>\n",
       "      <th>15</th>\n",
       "      <td>Lost Creek Fire</td>\n",
       "      <td>25 miles west of Cody, Wyo</td>\n",
       "      <td>Wyoming</td>\n",
       "      <td>44.459000</td>\n",
       "    </tr>\n",
       "    <tr>\n",
       "      <th>16</th>\n",
       "      <td>Isom Creek Fire (#187)</td>\n",
       "      <td>17 miles southwest of Stevens Village</td>\n",
       "      <td>Alaska</td>\n",
       "      <td>65.853996</td>\n",
       "    </tr>\n",
       "    <tr>\n",
       "      <th>17</th>\n",
       "      <td>Aquila Fire</td>\n",
       "      <td>Darrell Willis, DFFM</td>\n",
       "      <td>Arizona</td>\n",
       "      <td>33.806999</td>\n",
       "    </tr>\n",
       "    <tr>\n",
       "      <th>18</th>\n",
       "      <td>Central Fire</td>\n",
       "      <td>NE of New River</td>\n",
       "      <td>Nebraska</td>\n",
       "      <td>NaN</td>\n",
       "    </tr>\n",
       "    <tr>\n",
       "      <th>19</th>\n",
       "      <td>Sawtooth Fire</td>\n",
       "      <td>Superstition Mountains</td>\n",
       "      <td>Arizona</td>\n",
       "      <td>33.418999</td>\n",
       "    </tr>\n",
       "    <tr>\n",
       "      <th>20</th>\n",
       "      <td>Split Fire</td>\n",
       "      <td>Split Mountain</td>\n",
       "      <td>NaN</td>\n",
       "      <td>NaN</td>\n",
       "    </tr>\n",
       "    <tr>\n",
       "      <th>21</th>\n",
       "      <td>Bush Fire</td>\n",
       "      <td>Up to 38 miles northeast of Mesa, AZ along Hwy 87.</td>\n",
       "      <td>Arizona</td>\n",
       "      <td>NaN</td>\n",
       "    </tr>\n",
       "    <tr>\n",
       "      <th>22</th>\n",
       "      <td>Poeville</td>\n",
       "      <td>East side of Peavine Mountain</td>\n",
       "      <td>Nevada</td>\n",
       "      <td>39.576000</td>\n",
       "    </tr>\n",
       "    <tr>\n",
       "      <th>23</th>\n",
       "      <td>Loading Pen</td>\n",
       "      <td>23 miles from Cortez</td>\n",
       "      <td>NaN</td>\n",
       "      <td>NaN</td>\n",
       "    </tr>\n",
       "    <tr>\n",
       "      <th>24</th>\n",
       "      <td>Canal</td>\n",
       "      <td>5 miles north of Oak City, Utah</td>\n",
       "      <td>Utah</td>\n",
       "      <td>NaN</td>\n",
       "    </tr>\n",
       "    <tr>\n",
       "      <th>25</th>\n",
       "      <td>Fresnal Fire</td>\n",
       "      <td>Approximately 10 miles southwest of Arivaca, AZ on the U.S. / Mexico Border.</td>\n",
       "      <td>Arizona</td>\n",
       "      <td>31.444000</td>\n",
       "    </tr>\n",
       "    <tr>\n",
       "      <th>26</th>\n",
       "      <td>Navarro Fire</td>\n",
       "      <td>14 mi. W. Sahuarita</td>\n",
       "      <td>NaN</td>\n",
       "      <td>NaN</td>\n",
       "    </tr>\n",
       "    <tr>\n",
       "      <th>27</th>\n",
       "      <td>Polles Fire</td>\n",
       "      <td>Mazatzal Wilderness - 11 miles west of Payson, AZ and 6 miles south of Pine-Strawberry, AZ</td>\n",
       "      <td>Arizona</td>\n",
       "      <td>34.265999</td>\n",
       "    </tr>\n",
       "    <tr>\n",
       "      <th>28</th>\n",
       "      <td>2020 Coronado BAER</td>\n",
       "      <td>NaN</td>\n",
       "      <td>Arizona</td>\n",
       "      <td>32.345001</td>\n",
       "    </tr>\n",
       "    <tr>\n",
       "      <th>29</th>\n",
       "      <td>Blue River 2</td>\n",
       "      <td>15 miles NE of San Carlos</td>\n",
       "      <td>Arizona</td>\n",
       "      <td>33.479000</td>\n",
       "    </tr>\n",
       "    <tr>\n",
       "      <th>30</th>\n",
       "      <td>Tadpole Fire</td>\n",
       "      <td>Tadpole Ridge, 2.5 miles north of Pinos Altos NM.</td>\n",
       "      <td>New Mexico</td>\n",
       "      <td>NaN</td>\n",
       "    </tr>\n",
       "    <tr>\n",
       "      <th>31</th>\n",
       "      <td>Wood Springs 2 Fire</td>\n",
       "      <td>12.5 miles NE of Ganado, AZ</td>\n",
       "      <td>Arizona</td>\n",
       "      <td>35.840000</td>\n",
       "    </tr>\n",
       "    <tr>\n",
       "      <th>32</th>\n",
       "      <td>Neiber Fire</td>\n",
       "      <td>7 miles South of Worland, WY</td>\n",
       "      <td>Wyoming</td>\n",
       "      <td>43.856998</td>\n",
       "    </tr>\n",
       "    <tr>\n",
       "      <th>33</th>\n",
       "      <td>Bighorn</td>\n",
       "      <td>Northeast of Tucson</td>\n",
       "      <td>NaN</td>\n",
       "      <td>NaN</td>\n",
       "    </tr>\n",
       "    <tr>\n",
       "      <th>34</th>\n",
       "      <td>Good Fire</td>\n",
       "      <td>1.5 miles southwest of Gila Cliff Dwellings National Monument</td>\n",
       "      <td>New Mexico</td>\n",
       "      <td>33.182999</td>\n",
       "    </tr>\n",
       "    <tr>\n",
       "      <th>35</th>\n",
       "      <td>Bertschi Road Fire</td>\n",
       "      <td>South of the town of Glenwood, WA</td>\n",
       "      <td>Washington</td>\n",
       "      <td>NaN</td>\n",
       "    </tr>\n",
       "    <tr>\n",
       "      <th>36</th>\n",
       "      <td>Mahogany</td>\n",
       "      <td>28 miles NW of Las Vegas, Nevada.</td>\n",
       "      <td>Nevada</td>\n",
       "      <td>NaN</td>\n",
       "    </tr>\n",
       "    <tr>\n",
       "      <th>37</th>\n",
       "      <td>Fawn Creek Fire</td>\n",
       "      <td>26 miles SW of Meeker, CO</td>\n",
       "      <td>Colorado</td>\n",
       "      <td>39.804001</td>\n",
       "    </tr>\n",
       "    <tr>\n",
       "      <th>38</th>\n",
       "      <td>Wolf Fire</td>\n",
       "      <td>30 miles WSW of Meeker, CO</td>\n",
       "      <td>Colorado</td>\n",
       "      <td>39.888000</td>\n",
       "    </tr>\n",
       "    <tr>\n",
       "      <th>39</th>\n",
       "      <td>Cub Fire</td>\n",
       "      <td>3 miles northeast of Mogollon Baldy Lookout</td>\n",
       "      <td>New Mexico</td>\n",
       "      <td>33.314999</td>\n",
       "    </tr>\n",
       "    <tr>\n",
       "      <th>40</th>\n",
       "      <td>Milepost 21</td>\n",
       "      <td>Wildland Fire</td>\n",
       "      <td>NaN</td>\n",
       "      <td>NaN</td>\n",
       "    </tr>\n",
       "    <tr>\n",
       "      <th>41</th>\n",
       "      <td>Ben Young Fire</td>\n",
       "      <td>Approximately 13 miles south of Paisley, OR</td>\n",
       "      <td>Oregon</td>\n",
       "      <td>42.502998</td>\n",
       "    </tr>\n",
       "    <tr>\n",
       "      <th>42</th>\n",
       "      <td>Ojo de Los Casos</td>\n",
       "      <td>North of Mountainair, NM; West of Chilili</td>\n",
       "      <td>New Mexico</td>\n",
       "      <td>NaN</td>\n",
       "    </tr>\n",
       "    <tr>\n",
       "      <th>43</th>\n",
       "      <td>Mangum Fire</td>\n",
       "      <td>30 miles south of Fredonia, AZ</td>\n",
       "      <td>Arizona</td>\n",
       "      <td>NaN</td>\n",
       "    </tr>\n",
       "    <tr>\n",
       "      <th>44</th>\n",
       "      <td>Thumb Fire</td>\n",
       "      <td>33 mi NW of Tusayan, AZ</td>\n",
       "      <td>Arizona</td>\n",
       "      <td>36.331001</td>\n",
       "    </tr>\n",
       "    <tr>\n",
       "      <th>45</th>\n",
       "      <td>Stewart Fire</td>\n",
       "      <td>22 miles SW of Meeker, CO</td>\n",
       "      <td>Colorado</td>\n",
       "      <td>39.792999</td>\n",
       "    </tr>\n",
       "    <tr>\n",
       "      <th>46</th>\n",
       "      <td>2020 Tonto NF BAER Information</td>\n",
       "      <td>NaN</td>\n",
       "      <td>Arizona</td>\n",
       "      <td>33.591000</td>\n",
       "    </tr>\n",
       "    <tr>\n",
       "      <th>47</th>\n",
       "      <td>Bringham Fire</td>\n",
       "      <td>22 Miles North of Morenci, AZ</td>\n",
       "      <td>Arizona</td>\n",
       "      <td>33.415001</td>\n",
       "    </tr>\n",
       "    <tr>\n",
       "      <th>48</th>\n",
       "      <td>Six Rivers Lightning Fires 2020</td>\n",
       "      <td>41.194 latitude, -123.458 longitude</td>\n",
       "      <td>California</td>\n",
       "      <td>41.194000</td>\n",
       "    </tr>\n",
       "    <tr>\n",
       "      <th>49</th>\n",
       "      <td>Greenhouse Fire</td>\n",
       "      <td>1 mile SW of Nespelem, Washington</td>\n",
       "      <td>Washington</td>\n",
       "      <td>48.136002</td>\n",
       "    </tr>\n",
       "    <tr>\n",
       "      <th>50</th>\n",
       "      <td>Cottonwood</td>\n",
       "      <td>Cottonwood Pass</td>\n",
       "      <td>Nevada</td>\n",
       "      <td>35.945000</td>\n",
       "    </tr>\n",
       "    <tr>\n",
       "      <th>51</th>\n",
       "      <td>Anglin Fire</td>\n",
       "      <td>Anglin Fire - 8 miles E of Tonasket, WA\\r\\n\\r\\nGreen Fire - 12 miles NE of Riverside, WA\\r\\n\\r\\nBlue Lake Fire - 8 miles N of Concunully, WA</td>\n",
       "      <td>Washington</td>\n",
       "      <td>48.652000</td>\n",
       "    </tr>\n",
       "    <tr>\n",
       "      <th>52</th>\n",
       "      <td>Vics Peak</td>\n",
       "      <td>Vics Peak, Springtime Campground</td>\n",
       "      <td>New Mexico</td>\n",
       "      <td>33.570000</td>\n",
       "    </tr>\n",
       "    <tr>\n",
       "      <th>53</th>\n",
       "      <td>KNF Lightning July 2020</td>\n",
       "      <td>Klamath National Forest</td>\n",
       "      <td>NaN</td>\n",
       "      <td>NaN</td>\n",
       "    </tr>\n",
       "    <tr>\n",
       "      <th>54</th>\n",
       "      <td>July Complex 2020</td>\n",
       "      <td>Tule Lake, Lava Beds National Monument, Medicine Lake, CA</td>\n",
       "      <td>California</td>\n",
       "      <td>NaN</td>\n",
       "    </tr>\n",
       "    <tr>\n",
       "      <th>55</th>\n",
       "      <td>Pumpkin</td>\n",
       "      <td>15 miles south of Miles City, MT</td>\n",
       "      <td>Montana</td>\n",
       "      <td>46.205002</td>\n",
       "    </tr>\n",
       "    <tr>\n",
       "      <th>56</th>\n",
       "      <td>Halfway Fire</td>\n",
       "      <td>3 miles East of Tusayan near FR 302 &amp; 2709</td>\n",
       "      <td>NaN</td>\n",
       "      <td>NaN</td>\n",
       "    </tr>\n",
       "    <tr>\n",
       "      <th>57</th>\n",
       "      <td>Wilson Road</td>\n",
       "      <td>6 miles north of Pine Ridge, SD</td>\n",
       "      <td>South Dakota</td>\n",
       "      <td>43.116001</td>\n",
       "    </tr>\n",
       "    <tr>\n",
       "      <th>58</th>\n",
       "      <td>Old Baldy Fire</td>\n",
       "      <td>Eight (8) miles East of Twin Bridges, MT in the Tobacco Root Mountains\\r\\n\\r\\nApproximately 6 miles northeast of Sheridan, MT</td>\n",
       "      <td>Montana</td>\n",
       "      <td>NaN</td>\n",
       "    </tr>\n",
       "    <tr>\n",
       "      <th>59</th>\n",
       "      <td>Golden Fire</td>\n",
       "      <td>8 MILES N/NE OF IDAHO CITY, ID</td>\n",
       "      <td>Nebraska</td>\n",
       "      <td>NaN</td>\n",
       "    </tr>\n",
       "    <tr>\n",
       "      <th>60</th>\n",
       "      <td>Pig Fire</td>\n",
       "      <td>Approx. 5 miles s/se of Village of Oak Creek</td>\n",
       "      <td>Arizona</td>\n",
       "      <td>34.713001</td>\n",
       "    </tr>\n",
       "    <tr>\n",
       "      <th>61</th>\n",
       "      <td>Cub Lake Fire</td>\n",
       "      <td>Selway-Bitterroot Wilderness, Nez Perce-Clearwater National Forests</td>\n",
       "      <td>NaN</td>\n",
       "      <td>NaN</td>\n",
       "    </tr>\n",
       "    <tr>\n",
       "      <th>62</th>\n",
       "      <td>Richard Mountain Fire</td>\n",
       "      <td>5 miles North of Dutch John, UT</td>\n",
       "      <td>Utah</td>\n",
       "      <td>41.004002</td>\n",
       "    </tr>\n",
       "    <tr>\n",
       "      <th>63</th>\n",
       "      <td>Lost Fire</td>\n",
       "      <td>20 miles NW of Wendover, NV</td>\n",
       "      <td>Nevada</td>\n",
       "      <td>40.953999</td>\n",
       "    </tr>\n",
       "    <tr>\n",
       "      <th>64</th>\n",
       "      <td>Pine Hollow Fire</td>\n",
       "      <td>23 miles east of Fredonia, AZ</td>\n",
       "      <td>Arizona</td>\n",
       "      <td>NaN</td>\n",
       "    </tr>\n",
       "    <tr>\n",
       "      <th>65</th>\n",
       "      <td>Stump Fire</td>\n",
       "      <td>Near the junction of State Highways 36 and 172 near Childs Meadows.</td>\n",
       "      <td>California</td>\n",
       "      <td>40.335999</td>\n",
       "    </tr>\n",
       "    <tr>\n",
       "      <th>66</th>\n",
       "      <td>SHF Lightning Fires 2020</td>\n",
       "      <td>40.841 latitude, -122.885 longitude</td>\n",
       "      <td>California</td>\n",
       "      <td>40.841000</td>\n",
       "    </tr>\n",
       "    <tr>\n",
       "      <th>67</th>\n",
       "      <td>Humboldt-Toiyabe 2020 Initial Attack</td>\n",
       "      <td>Page For Emerging Initial Attack Incidents On The Humboldt-toiyabe National Forest.</td>\n",
       "      <td>NaN</td>\n",
       "      <td>NaN</td>\n",
       "    </tr>\n",
       "    <tr>\n",
       "      <th>68</th>\n",
       "      <td>Trimmer Fire</td>\n",
       "      <td>Approximately 1/2 mile southeast of Big Creek Road and Trimmer Springs Road intersection.</td>\n",
       "      <td>California</td>\n",
       "      <td>36.898998</td>\n",
       "    </tr>\n",
       "    <tr>\n",
       "      <th>69</th>\n",
       "      <td>#6</td>\n",
       "      <td>Between Red Shirt and Oglala, South Dakota off SD Highway 41</td>\n",
       "      <td>South Dakota</td>\n",
       "      <td>43.272999</td>\n",
       "    </tr>\n",
       "    <tr>\n",
       "      <th>70</th>\n",
       "      <td>Neals Hill</td>\n",
       "      <td>20 miles SE of Princeton, Oregon</td>\n",
       "      <td>Oregon</td>\n",
       "      <td>NaN</td>\n",
       "    </tr>\n",
       "    <tr>\n",
       "      <th>71</th>\n",
       "      <td>Phillips Creek</td>\n",
       "      <td>8 miles north of Fairfield, Idaho</td>\n",
       "      <td>Idaho</td>\n",
       "      <td>NaN</td>\n",
       "    </tr>\n",
       "    <tr>\n",
       "      <th>72</th>\n",
       "      <td>Sand Creek Fire</td>\n",
       "      <td>20 miles NW of Pagosa Springs CO</td>\n",
       "      <td>Colorado</td>\n",
       "      <td>NaN</td>\n",
       "    </tr>\n",
       "    <tr>\n",
       "      <th>73</th>\n",
       "      <td>Matlock Fire</td>\n",
       "      <td>13.5 miles northwest of Ukiah, Oregon</td>\n",
       "      <td>Oregon</td>\n",
       "      <td>45.205002</td>\n",
       "    </tr>\n",
       "    <tr>\n",
       "      <th>74</th>\n",
       "      <td>Smith Fire</td>\n",
       "      <td>31.513 latitude, -98.842 longitude</td>\n",
       "      <td>Texas</td>\n",
       "      <td>31.513000</td>\n",
       "    </tr>\n",
       "    <tr>\n",
       "      <th>75</th>\n",
       "      <td>Pennington Creek Fire</td>\n",
       "      <td>32.959 latitude, -98.28 longitude</td>\n",
       "      <td>Texas</td>\n",
       "      <td>32.959000</td>\n",
       "    </tr>\n",
       "    <tr>\n",
       "      <th>76</th>\n",
       "      <td>Blue Jay</td>\n",
       "      <td>4 miles south of White Wolf Campground and 1 mile west of Lukens Lake Trail</td>\n",
       "      <td>NaN</td>\n",
       "      <td>NaN</td>\n",
       "    </tr>\n",
       "    <tr>\n",
       "      <th>77</th>\n",
       "      <td>Chikamin</td>\n",
       "      <td>11 Miles NE of Lake Wenatchee</td>\n",
       "      <td>Washington</td>\n",
       "      <td>47.991001</td>\n",
       "    </tr>\n",
       "    <tr>\n",
       "      <th>78</th>\n",
       "      <td>Gulch Fire</td>\n",
       "      <td>Keyesville Area - Black Gulch North</td>\n",
       "      <td>NaN</td>\n",
       "      <td>NaN</td>\n",
       "    </tr>\n",
       "    <tr>\n",
       "      <th>79</th>\n",
       "      <td>Burk Fire</td>\n",
       "      <td>10 miles north of Eden, TX</td>\n",
       "      <td>Texas</td>\n",
       "      <td>31.334000</td>\n",
       "    </tr>\n",
       "    <tr>\n",
       "      <th>80</th>\n",
       "      <td>Goose Creek</td>\n",
       "      <td>13 miles south of Creede, CO.</td>\n",
       "      <td>Colorado</td>\n",
       "      <td>37.653999</td>\n",
       "    </tr>\n",
       "    <tr>\n",
       "      <th>81</th>\n",
       "      <td>Camp House Fire</td>\n",
       "      <td>Curtis Ward, Texas A&amp;M Forest Service</td>\n",
       "      <td>Texas</td>\n",
       "      <td>NaN</td>\n",
       "    </tr>\n",
       "    <tr>\n",
       "      <th>82</th>\n",
       "      <td>Mica Bowl Fire</td>\n",
       "      <td>NaN</td>\n",
       "      <td>Arizona</td>\n",
       "      <td>32.237000</td>\n",
       "    </tr>\n",
       "    <tr>\n",
       "      <th>83</th>\n",
       "      <td>Cameron Peak Fire</td>\n",
       "      <td>15 miles SW of Redfeather Lakes, CO</td>\n",
       "      <td>Colorado</td>\n",
       "      <td>40.609001</td>\n",
       "    </tr>\n",
       "    <tr>\n",
       "      <th>84</th>\n",
       "      <td>Mosier Creek</td>\n",
       "      <td>Two miles south of Mosier, Oregon</td>\n",
       "      <td>Washington</td>\n",
       "      <td>45.654999</td>\n",
       "    </tr>\n",
       "    <tr>\n",
       "      <th>85</th>\n",
       "      <td>Turkey Creek Fire</td>\n",
       "      <td>32.935 latitude, -98.136 longitude</td>\n",
       "      <td>Texas</td>\n",
       "      <td>32.935001</td>\n",
       "    </tr>\n",
       "    <tr>\n",
       "      <th>86</th>\n",
       "      <td>Grasshopper Fire</td>\n",
       "      <td>33.646 latitude, -98.322 longitude</td>\n",
       "      <td>Texas</td>\n",
       "      <td>33.646000</td>\n",
       "    </tr>\n",
       "    <tr>\n",
       "      <th>87</th>\n",
       "      <td>Dark Canyon</td>\n",
       "      <td>Dark Canyon, North of Tucson Mountain. Approx. 9 miles from Capitan, NM</td>\n",
       "      <td>New Mexico</td>\n",
       "      <td>33.667000</td>\n",
       "    </tr>\n",
       "    <tr>\n",
       "      <th>88</th>\n",
       "      <td>Pumpkin Fire</td>\n",
       "      <td>8 miles SSW of Garden Valley, Idaho</td>\n",
       "      <td>Idaho</td>\n",
       "      <td>43.981998</td>\n",
       "    </tr>\n",
       "    <tr>\n",
       "      <th>89</th>\n",
       "      <td>Spud Rock Fire</td>\n",
       "      <td>NaN</td>\n",
       "      <td>Arizona</td>\n",
       "      <td>32.203999</td>\n",
       "    </tr>\n",
       "    <tr>\n",
       "      <th>90</th>\n",
       "      <td>Regen Hill Fire</td>\n",
       "      <td>NaN</td>\n",
       "      <td>Texas</td>\n",
       "      <td>30.093000</td>\n",
       "    </tr>\n",
       "    <tr>\n",
       "      <th>91</th>\n",
       "      <td>Trails Fire</td>\n",
       "      <td>Will Hood, Texas A&amp;M Forest Service</td>\n",
       "      <td>Texas</td>\n",
       "      <td>NaN</td>\n",
       "    </tr>\n",
       "    <tr>\n",
       "      <th>92</th>\n",
       "      <td>Grizzly Creek Fire</td>\n",
       "      <td>Glenwood Canyon</td>\n",
       "      <td>Colorado</td>\n",
       "      <td>39.571999</td>\n",
       "    </tr>\n",
       "    <tr>\n",
       "      <th>93</th>\n",
       "      <td>Stagecoach Fire</td>\n",
       "      <td>Near the community of Havilah in Kern County, about nine miles south of Lake Isabella.</td>\n",
       "      <td>California</td>\n",
       "      <td>35.465000</td>\n",
       "    </tr>\n",
       "    <tr>\n",
       "      <th>94</th>\n",
       "      <td>Bear Creek Fire</td>\n",
       "      <td>29 air miles East of Salmon Idaho, South of Lemhi Pass</td>\n",
       "      <td>Idaho</td>\n",
       "      <td>44.858002</td>\n",
       "    </tr>\n",
       "    <tr>\n",
       "      <th>95</th>\n",
       "      <td>Poodle Fire</td>\n",
       "      <td>20 miles NW of Gerlarch, NV</td>\n",
       "      <td>California</td>\n",
       "      <td>40.818001</td>\n",
       "    </tr>\n",
       "    <tr>\n",
       "      <th>96</th>\n",
       "      <td>Red Salmon Complex</td>\n",
       "      <td>14 miles northeast of Willow Creek, CA</td>\n",
       "      <td>California</td>\n",
       "      <td>NaN</td>\n",
       "    </tr>\n",
       "    <tr>\n",
       "      <th>97</th>\n",
       "      <td>Wood Canyon</td>\n",
       "      <td>Peloncilo Mountain Wilderness</td>\n",
       "      <td>NaN</td>\n",
       "      <td>NaN</td>\n",
       "    </tr>\n",
       "    <tr>\n",
       "      <th>98</th>\n",
       "      <td>Ranch2</td>\n",
       "      <td>SAN GABRIEL CYN RD/ N RANCH RD</td>\n",
       "      <td>NaN</td>\n",
       "      <td>NaN</td>\n",
       "    </tr>\n",
       "    <tr>\n",
       "      <th>99</th>\n",
       "      <td>Apple Fire</td>\n",
       "      <td>Oak Glen Community/Cherry Valley</td>\n",
       "      <td>California</td>\n",
       "      <td>33.998001</td>\n",
       "    </tr>\n",
       "  </tbody>\n",
       "</table>\n",
       "</div>"
      ],
      "text/plain": [
       "                                Incident  \\\n",
       "0                           Chimney Fire   \n",
       "1                 Cassadore Springs Fire   \n",
       "2                          Bucholtz Fire   \n",
       "3                        Pine Gulch Fire   \n",
       "4                          Williams Fork   \n",
       "5                                  Klaus   \n",
       "6                                      ,   \n",
       "7                           Bradley Fire   \n",
       "8                        Trash Pile Fire   \n",
       "9                      Fields Gulch Fire   \n",
       "10                       Lake Creek Fire   \n",
       "11                  Apple Post-Fire BAER   \n",
       "12                                  Seco   \n",
       "13                             Bell Fire   \n",
       "14                             Lake Fire   \n",
       "15                       Lost Creek Fire   \n",
       "16                Isom Creek Fire (#187)   \n",
       "17                           Aquila Fire   \n",
       "18                          Central Fire   \n",
       "19                         Sawtooth Fire   \n",
       "20                            Split Fire   \n",
       "21                             Bush Fire   \n",
       "22                              Poeville   \n",
       "23                           Loading Pen   \n",
       "24                                 Canal   \n",
       "25                          Fresnal Fire   \n",
       "26                          Navarro Fire   \n",
       "27                           Polles Fire   \n",
       "28                    2020 Coronado BAER   \n",
       "29                          Blue River 2   \n",
       "30                          Tadpole Fire   \n",
       "31                   Wood Springs 2 Fire   \n",
       "32                           Neiber Fire   \n",
       "33                               Bighorn   \n",
       "34                             Good Fire   \n",
       "35                    Bertschi Road Fire   \n",
       "36                              Mahogany   \n",
       "37                       Fawn Creek Fire   \n",
       "38                             Wolf Fire   \n",
       "39                              Cub Fire   \n",
       "40                           Milepost 21   \n",
       "41                        Ben Young Fire   \n",
       "42                      Ojo de Los Casos   \n",
       "43                           Mangum Fire   \n",
       "44                            Thumb Fire   \n",
       "45                          Stewart Fire   \n",
       "46        2020 Tonto NF BAER Information   \n",
       "47                         Bringham Fire   \n",
       "48       Six Rivers Lightning Fires 2020   \n",
       "49                       Greenhouse Fire   \n",
       "50                            Cottonwood   \n",
       "51                           Anglin Fire   \n",
       "52                             Vics Peak   \n",
       "53               KNF Lightning July 2020   \n",
       "54                     July Complex 2020   \n",
       "55                               Pumpkin   \n",
       "56                          Halfway Fire   \n",
       "57                           Wilson Road   \n",
       "58                        Old Baldy Fire   \n",
       "59                           Golden Fire   \n",
       "60                              Pig Fire   \n",
       "61                         Cub Lake Fire   \n",
       "62                 Richard Mountain Fire   \n",
       "63                             Lost Fire   \n",
       "64                      Pine Hollow Fire   \n",
       "65                            Stump Fire   \n",
       "66              SHF Lightning Fires 2020   \n",
       "67  Humboldt-Toiyabe 2020 Initial Attack   \n",
       "68                          Trimmer Fire   \n",
       "69                                    #6   \n",
       "70                            Neals Hill   \n",
       "71                        Phillips Creek   \n",
       "72                       Sand Creek Fire   \n",
       "73                          Matlock Fire   \n",
       "74                            Smith Fire   \n",
       "75                 Pennington Creek Fire   \n",
       "76                              Blue Jay   \n",
       "77                              Chikamin   \n",
       "78                            Gulch Fire   \n",
       "79                             Burk Fire   \n",
       "80                           Goose Creek   \n",
       "81                       Camp House Fire   \n",
       "82                        Mica Bowl Fire   \n",
       "83                     Cameron Peak Fire   \n",
       "84                          Mosier Creek   \n",
       "85                     Turkey Creek Fire   \n",
       "86                      Grasshopper Fire   \n",
       "87                           Dark Canyon   \n",
       "88                          Pumpkin Fire   \n",
       "89                        Spud Rock Fire   \n",
       "90                       Regen Hill Fire   \n",
       "91                           Trails Fire   \n",
       "92                    Grizzly Creek Fire   \n",
       "93                       Stagecoach Fire   \n",
       "94                       Bear Creek Fire   \n",
       "95                           Poodle Fire   \n",
       "96                    Red Salmon Complex   \n",
       "97                           Wood Canyon   \n",
       "98                                Ranch2   \n",
       "99                            Apple Fire   \n",
       "\n",
       "                                                                                                                                        Location  \\\n",
       "0                                                                                                             32.722 latitude, -99.481 longitude   \n",
       "1                                                                                                               11 miles north of San Carlos, AZ   \n",
       "2                                                                                                                       5 miles east of Eldorado   \n",
       "3                                                                                                     18 miles north of Grand Junction, Colorado   \n",
       "4                                                                                                                      15 miles NW of Fraser, CO   \n",
       "5                                                      Douglas Ranger District on the Coronado National Forest. 11 miles southwest of Portal, AZ   \n",
       "6                                                                                                                                            NaN   \n",
       "7                                                                                                            42.286 latitude, -107.052 longitude   \n",
       "8                                                                                                             33.858 latitude, -98.831 longitude   \n",
       "9                                                                                                                                  Brian McGowan   \n",
       "10                                                                                                            43.39 latitude, -105.072 longitude   \n",
       "11                                                                                                                                           NaN   \n",
       "12                                                                                                                                 Ryan Carbajal   \n",
       "13                                        Emigrant Wilderness, 1.5 miles southeast of Gianelli Trailhead, and 2 miles east of Crabtree Trailhead   \n",
       "14                                                                                                         Lake Hughes, Unincorporated LA County   \n",
       "15                                                                                                                    25 miles west of Cody, Wyo   \n",
       "16                                                                                                         17 miles southwest of Stevens Village   \n",
       "17                                                                                                                          Darrell Willis, DFFM   \n",
       "18                                                                                                                               NE of New River   \n",
       "19                                                                                                                        Superstition Mountains   \n",
       "20                                                                                                                                Split Mountain   \n",
       "21                                                                                            Up to 38 miles northeast of Mesa, AZ along Hwy 87.   \n",
       "22                                                                                                                 East side of Peavine Mountain   \n",
       "23                                                                                                                          23 miles from Cortez   \n",
       "24                                                                                                               5 miles north of Oak City, Utah   \n",
       "25                                                                  Approximately 10 miles southwest of Arivaca, AZ on the U.S. / Mexico Border.   \n",
       "26                                                                                                                           14 mi. W. Sahuarita   \n",
       "27                                                    Mazatzal Wilderness - 11 miles west of Payson, AZ and 6 miles south of Pine-Strawberry, AZ   \n",
       "28                                                                                                                                           NaN   \n",
       "29                                                                                                                     15 miles NE of San Carlos   \n",
       "30                                                                                             Tadpole Ridge, 2.5 miles north of Pinos Altos NM.   \n",
       "31                                                                                                                   12.5 miles NE of Ganado, AZ   \n",
       "32                                                                                                                  7 miles South of Worland, WY   \n",
       "33                                                                                                                           Northeast of Tucson   \n",
       "34                                                                                 1.5 miles southwest of Gila Cliff Dwellings National Monument   \n",
       "35                                                                                                             South of the town of Glenwood, WA   \n",
       "36                                                                                                             28 miles NW of Las Vegas, Nevada.   \n",
       "37                                                                                                                     26 miles SW of Meeker, CO   \n",
       "38                                                                                                                    30 miles WSW of Meeker, CO   \n",
       "39                                                                                                   3 miles northeast of Mogollon Baldy Lookout   \n",
       "40                                                                                                                                 Wildland Fire   \n",
       "41                                                                                                   Approximately 13 miles south of Paisley, OR   \n",
       "42                                                                                                     North of Mountainair, NM; West of Chilili   \n",
       "43                                                                                                                30 miles south of Fredonia, AZ   \n",
       "44                                                                                                                       33 mi NW of Tusayan, AZ   \n",
       "45                                                                                                                     22 miles SW of Meeker, CO   \n",
       "46                                                                                                                                           NaN   \n",
       "47                                                                                                                 22 Miles North of Morenci, AZ   \n",
       "48                                                                                                           41.194 latitude, -123.458 longitude   \n",
       "49                                                                                                             1 mile SW of Nespelem, Washington   \n",
       "50                                                                                                                               Cottonwood Pass   \n",
       "51  Anglin Fire - 8 miles E of Tonasket, WA\\r\\n\\r\\nGreen Fire - 12 miles NE of Riverside, WA\\r\\n\\r\\nBlue Lake Fire - 8 miles N of Concunully, WA   \n",
       "52                                                                                                              Vics Peak, Springtime Campground   \n",
       "53                                                                                                                       Klamath National Forest   \n",
       "54                                                                                     Tule Lake, Lava Beds National Monument, Medicine Lake, CA   \n",
       "55                                                                                                              15 miles south of Miles City, MT   \n",
       "56                                                                                                    3 miles East of Tusayan near FR 302 & 2709   \n",
       "57                                                                                                               6 miles north of Pine Ridge, SD   \n",
       "58                 Eight (8) miles East of Twin Bridges, MT in the Tobacco Root Mountains\\r\\n\\r\\nApproximately 6 miles northeast of Sheridan, MT   \n",
       "59                                                                                                                8 MILES N/NE OF IDAHO CITY, ID   \n",
       "60                                                                                                  Approx. 5 miles s/se of Village of Oak Creek   \n",
       "61                                                                           Selway-Bitterroot Wilderness, Nez Perce-Clearwater National Forests   \n",
       "62                                                                                                               5 miles North of Dutch John, UT   \n",
       "63                                                                                                                   20 miles NW of Wendover, NV   \n",
       "64                                                                                                                 23 miles east of Fredonia, AZ   \n",
       "65                                                                           Near the junction of State Highways 36 and 172 near Childs Meadows.   \n",
       "66                                                                                                           40.841 latitude, -122.885 longitude   \n",
       "67                                                           Page For Emerging Initial Attack Incidents On The Humboldt-toiyabe National Forest.   \n",
       "68                                                     Approximately 1/2 mile southeast of Big Creek Road and Trimmer Springs Road intersection.   \n",
       "69                                                                                  Between Red Shirt and Oglala, South Dakota off SD Highway 41   \n",
       "70                                                                                                              20 miles SE of Princeton, Oregon   \n",
       "71                                                                                                             8 miles north of Fairfield, Idaho   \n",
       "72                                                                                                              20 miles NW of Pagosa Springs CO   \n",
       "73                                                                                                         13.5 miles northwest of Ukiah, Oregon   \n",
       "74                                                                                                            31.513 latitude, -98.842 longitude   \n",
       "75                                                                                                             32.959 latitude, -98.28 longitude   \n",
       "76                                                                   4 miles south of White Wolf Campground and 1 mile west of Lukens Lake Trail   \n",
       "77                                                                                                                 11 Miles NE of Lake Wenatchee   \n",
       "78                                                                                                           Keyesville Area - Black Gulch North   \n",
       "79                                                                                                                    10 miles north of Eden, TX   \n",
       "80                                                                                                                 13 miles south of Creede, CO.   \n",
       "81                                                                                                         Curtis Ward, Texas A&M Forest Service   \n",
       "82                                                                                                                                           NaN   \n",
       "83                                                                                                           15 miles SW of Redfeather Lakes, CO   \n",
       "84                                                                                                             Two miles south of Mosier, Oregon   \n",
       "85                                                                                                            32.935 latitude, -98.136 longitude   \n",
       "86                                                                                                            33.646 latitude, -98.322 longitude   \n",
       "87                                                                       Dark Canyon, North of Tucson Mountain. Approx. 9 miles from Capitan, NM   \n",
       "88                                                                                                           8 miles SSW of Garden Valley, Idaho   \n",
       "89                                                                                                                                           NaN   \n",
       "90                                                                                                                                           NaN   \n",
       "91                                                                                                           Will Hood, Texas A&M Forest Service   \n",
       "92                                                                                                                               Glenwood Canyon   \n",
       "93                                                        Near the community of Havilah in Kern County, about nine miles south of Lake Isabella.   \n",
       "94                                                                                        29 air miles East of Salmon Idaho, South of Lemhi Pass   \n",
       "95                                                                                                                   20 miles NW of Gerlarch, NV   \n",
       "96                                                                                                        14 miles northeast of Willow Creek, CA   \n",
       "97                                                                                                                 Peloncilo Mountain Wilderness   \n",
       "98                                                                                                                SAN GABRIEL CYN RD/ N RANCH RD   \n",
       "99                                                                                                              Oak Glen Community/Cherry Valley   \n",
       "\n",
       "          Region   Latitude  \n",
       "0          Texas  32.722000  \n",
       "1        Arizona  33.543999  \n",
       "2          Texas  30.863001  \n",
       "3       Colorado        NaN  \n",
       "4       Colorado        NaN  \n",
       "5        Arizona        NaN  \n",
       "6            NaN        NaN  \n",
       "7        Wyoming  42.285999  \n",
       "8          Texas  33.858002  \n",
       "9        Montana  46.852001  \n",
       "10       Wyoming  43.389999  \n",
       "11    California  33.960999  \n",
       "12           NaN        NaN  \n",
       "13    California  38.182999  \n",
       "14     Louisiana        NaN  \n",
       "15       Wyoming  44.459000  \n",
       "16        Alaska  65.853996  \n",
       "17       Arizona  33.806999  \n",
       "18      Nebraska        NaN  \n",
       "19       Arizona  33.418999  \n",
       "20           NaN        NaN  \n",
       "21       Arizona        NaN  \n",
       "22        Nevada  39.576000  \n",
       "23           NaN        NaN  \n",
       "24          Utah        NaN  \n",
       "25       Arizona  31.444000  \n",
       "26           NaN        NaN  \n",
       "27       Arizona  34.265999  \n",
       "28       Arizona  32.345001  \n",
       "29       Arizona  33.479000  \n",
       "30    New Mexico        NaN  \n",
       "31       Arizona  35.840000  \n",
       "32       Wyoming  43.856998  \n",
       "33           NaN        NaN  \n",
       "34    New Mexico  33.182999  \n",
       "35    Washington        NaN  \n",
       "36        Nevada        NaN  \n",
       "37      Colorado  39.804001  \n",
       "38      Colorado  39.888000  \n",
       "39    New Mexico  33.314999  \n",
       "40           NaN        NaN  \n",
       "41        Oregon  42.502998  \n",
       "42    New Mexico        NaN  \n",
       "43       Arizona        NaN  \n",
       "44       Arizona  36.331001  \n",
       "45      Colorado  39.792999  \n",
       "46       Arizona  33.591000  \n",
       "47       Arizona  33.415001  \n",
       "48    California  41.194000  \n",
       "49    Washington  48.136002  \n",
       "50        Nevada  35.945000  \n",
       "51    Washington  48.652000  \n",
       "52    New Mexico  33.570000  \n",
       "53           NaN        NaN  \n",
       "54    California        NaN  \n",
       "55       Montana  46.205002  \n",
       "56           NaN        NaN  \n",
       "57  South Dakota  43.116001  \n",
       "58       Montana        NaN  \n",
       "59      Nebraska        NaN  \n",
       "60       Arizona  34.713001  \n",
       "61           NaN        NaN  \n",
       "62          Utah  41.004002  \n",
       "63        Nevada  40.953999  \n",
       "64       Arizona        NaN  \n",
       "65    California  40.335999  \n",
       "66    California  40.841000  \n",
       "67           NaN        NaN  \n",
       "68    California  36.898998  \n",
       "69  South Dakota  43.272999  \n",
       "70        Oregon        NaN  \n",
       "71         Idaho        NaN  \n",
       "72      Colorado        NaN  \n",
       "73        Oregon  45.205002  \n",
       "74         Texas  31.513000  \n",
       "75         Texas  32.959000  \n",
       "76           NaN        NaN  \n",
       "77    Washington  47.991001  \n",
       "78           NaN        NaN  \n",
       "79         Texas  31.334000  \n",
       "80      Colorado  37.653999  \n",
       "81         Texas        NaN  \n",
       "82       Arizona  32.237000  \n",
       "83      Colorado  40.609001  \n",
       "84    Washington  45.654999  \n",
       "85         Texas  32.935001  \n",
       "86         Texas  33.646000  \n",
       "87    New Mexico  33.667000  \n",
       "88         Idaho  43.981998  \n",
       "89       Arizona  32.203999  \n",
       "90         Texas  30.093000  \n",
       "91         Texas        NaN  \n",
       "92      Colorado  39.571999  \n",
       "93    California  35.465000  \n",
       "94         Idaho  44.858002  \n",
       "95    California  40.818001  \n",
       "96    California        NaN  \n",
       "97           NaN        NaN  \n",
       "98           NaN        NaN  \n",
       "99    California  33.998001  "
      ]
     },
     "execution_count": 104,
     "metadata": {},
     "output_type": "execute_result"
    }
   ],
   "source": [
    "wildf_dfv21.loc[:, ['Incident','Location', 'Region', 'Latitude']]"
   ]
  },
  {
   "cell_type": "code",
   "execution_count": null,
   "metadata": {},
   "outputs": [],
   "source": [
    "# Drop column 'Location'\n",
    "wildf_dfv21.drop(['Location'], axis=1, inplace=True)"
   ]
  },
  {
   "cell_type": "code",
   "execution_count": null,
   "metadata": {},
   "outputs": [],
   "source": [
    "# Drop column 'Incident'\n",
    "wildf_dfv21.drop(['Incident'], axis=1, inplace=True)"
   ]
  },
  {
   "cell_type": "code",
   "execution_count": null,
   "metadata": {},
   "outputs": [],
   "source": [
    "# Save dataframe to csv file\n",
    "wildf_dfv21.to_csv('blazes/fires_v3.csv', index = False)"
   ]
  },
  {
   "cell_type": "markdown",
   "metadata": {},
   "source": [
    "## Final Tweakings"
   ]
  },
  {
   "cell_type": "code",
   "execution_count": null,
   "metadata": {},
   "outputs": [],
   "source": [
    "# Read the csv file into a new dataframe\n",
    "wildf = pd.read_csv('blazes/fires_v3.csv')"
   ]
  },
  {
   "cell_type": "code",
   "execution_count": null,
   "metadata": {},
   "outputs": [],
   "source": [
    "# Make a copy\n",
    "wildf_dfv3 = wildf.copy()"
   ]
  },
  {
   "cell_type": "code",
   "execution_count": null,
   "metadata": {},
   "outputs": [],
   "source": [
    "# Show selected columns where column 'Incident Type' is 'Burned Area Emergency Response'\n",
    "exclude = ['Latitude','Longitude', 'Fuels Involved', 'Region']\n",
    "wildf_dfv3.loc[wildf_dfv3['Incident Type'] == 'Burned Area Emergency Response', wildf_dfv3.columns.difference(exclude, sort=False)]"
   ]
  },
  {
   "cell_type": "code",
   "execution_count": null,
   "metadata": {},
   "outputs": [],
   "source": [
    "wildf_dfv3.drop(index=wildf_dfv3[wildf_dfv3['Incident Type'] == 'Burned Area Emergency Response'].index, inplace=True)"
   ]
  },
  {
   "cell_type": "code",
   "execution_count": null,
   "metadata": {},
   "outputs": [],
   "source": [
    "# Checking total number of rows with all cells empty\n",
    "wildf_dfv3.isnull().all(axis=1).sum()"
   ]
  },
  {
   "cell_type": "code",
   "execution_count": null,
   "metadata": {},
   "outputs": [],
   "source": [
    "# Drop all the rows with all cells empty\n",
    "wildf_dfv3.dropna(how='all', inplace=True)"
   ]
  },
  {
   "cell_type": "code",
   "execution_count": null,
   "metadata": {},
   "outputs": [],
   "source": [
    "wildf_dfv3.shape"
   ]
  },
  {
   "cell_type": "code",
   "execution_count": null,
   "metadata": {},
   "outputs": [],
   "source": [
    "# Converting float values to integers. When saving dataframe to csv int values are saved as float\n",
    "# wildf_dfv3[['Perimeter Contained (%)','Personnel Involved','Fire Size (Acres)']] = wildf_dfv3[['Perimeter Contained (%)','Personnel Involved','Fire Size (Acres)']].astype('Int64')\n",
    "# Or convert only 'Pesonnel involved' and 'Fire Size (Acres)' to integer values'\n",
    "wildf_dfv3[['Personnel Involved','Fire Size (Acres)']] = wildf_dfv3[['Personnel Involved','Fire Size (Acres)']].astype('Int64')"
   ]
  },
  {
   "cell_type": "code",
   "execution_count": null,
   "metadata": {},
   "outputs": [],
   "source": [
    "# Show final dataset\n",
    "exclude = ['Latitude','Longitude', 'Fuels Involved']\n",
    "wildf_dfv3.loc[:, wildf_dfv3.columns.difference(exclude, sort=False)].head(100)"
   ]
  },
  {
   "cell_type": "code",
   "execution_count": null,
   "metadata": {},
   "outputs": [],
   "source": [
    "wildf_dfv3.to_csv('blazes/fires_v4.csv', index = False)"
   ]
  },
  {
   "cell_type": "markdown",
   "metadata": {},
   "source": [
    "# Addendum"
   ]
  },
  {
   "cell_type": "code",
   "execution_count": null,
   "metadata": {},
   "outputs": [],
   "source": [
    "# Dictionary with U.S states-capitals\n",
    "us_capital_dic={\n",
    "    'Alabama': 'Montgomery',\n",
    "    'Alaska': 'Juneau',\n",
    "    'Arizona':'Phoenix',\n",
    "    'Arkansas':'Little Rock',\n",
    "    'California': 'Sacramento',\n",
    "    'Colorado':'Denver',\n",
    "    'Connecticut':'Hartford',\n",
    "    'Delaware':'Dover',\n",
    "    'Florida': 'Tallahassee',\n",
    "    'Georgia': 'Atlanta',\n",
    "    'Hawaii': 'Honolulu',\n",
    "    'Idaho': 'Boise',\n",
    "    'Illinois': 'Springfield',\n",
    "    'Indiana': 'Indianapolis',\n",
    "    'Iowa': 'Des Monies',\n",
    "    'Kansas': 'Topeka',\n",
    "    'Kentucky': 'Frankfort',\n",
    "    'Louisiana': 'Baton Rouge',\n",
    "    'Maine': 'Augusta',\n",
    "    'Maryland': 'Annapolis',\n",
    "    'Massachusetts': 'Boston',\n",
    "    'Michigan': 'Lansing',\n",
    "    'Minnesota': 'St. Paul',\n",
    "    'Mississippi': 'Jackson',\n",
    "    'Missouri': 'Jefferson City',\n",
    "    'Montana': 'Helena',\n",
    "    'Nebraska': 'Lincoln',\n",
    "    'Nevada': 'Carson City',\n",
    "    'New Hampshire': 'Concord',\n",
    "    'New Jersey': 'Trenton',\n",
    "    'New Mexico': 'Santa Fe',\n",
    "    'New York': 'Albany',\n",
    "    'North Carolina': 'Raleigh',\n",
    "    'North Dakota': 'Bismarck',\n",
    "    'Ohio': 'Columbus',\n",
    "    'Oklahoma': 'Oklahoma City',\n",
    "    'Oregon': 'Salem',\n",
    "    'Pennsylvania': 'Harrisburg',\n",
    "    'Rhode Island': 'Providence',\n",
    "    'South Carolina': 'Columbia',\n",
    "    'South Dakoda': 'Pierre',\n",
    "    'Tennessee': 'Nashville',\n",
    "    'Texas': 'Austin',\n",
    "    'Utah': 'Salt Lake City',\n",
    "    'Vermont': 'Montpelier',\n",
    "    'Virginia': 'Richmond',\n",
    "    'Washington': 'Olympia',\n",
    "    'West Virginia': 'Charleston',\n",
    "    'Wisconsin': 'Madison',\n",
    "    'Wyoming': 'Cheyenne'  \n",
    "}"
   ]
  },
  {
   "cell_type": "code",
   "execution_count": null,
   "metadata": {},
   "outputs": [],
   "source": [
    "# Slicing tips\n",
    "wildf_dfv2.loc[wildf_dfv2['Region'].isnull(), ['Location', 'Region']].head(100)"
   ]
  },
  {
   "cell_type": "code",
   "execution_count": 3,
   "metadata": {},
   "outputs": [],
   "source": [
    "wildf = pd.read_csv('blazes/fires_v4.csv')"
   ]
  },
  {
   "cell_type": "code",
   "execution_count": 4,
   "metadata": {},
   "outputs": [
    {
     "data": {
      "text/plain": [
       "(96, 10)"
      ]
     },
     "execution_count": 4,
     "metadata": {},
     "output_type": "execute_result"
    }
   ],
   "source": [
    "wildf.shape\n"
   ]
  },
  {
   "cell_type": "code",
   "execution_count": 8,
   "metadata": {},
   "outputs": [],
   "source": [
    "# Set column to 'Int64' to have a column both with integer and NAN values\n",
    "wildf['Personnel Involved'] = wildf['Personnel Involved'] .astype('Int64')"
   ]
  },
  {
   "cell_type": "code",
   "execution_count": 9,
   "metadata": {},
   "outputs": [
    {
     "data": {
      "text/plain": [
       "Cause                       object\n",
       "Fuels Involved              object\n",
       "Incident Type               object\n",
       "Perimeter Contained (%)    float64\n",
       "Personnel Involved           Int64\n",
       "Fire Size (Acres)          float64\n",
       "Latitude                   float64\n",
       "Longitude                  float64\n",
       "ISO Date                    object\n",
       "Region                      object\n",
       "dtype: object"
      ]
     },
     "execution_count": 9,
     "metadata": {},
     "output_type": "execute_result"
    }
   ],
   "source": [
    "wildf.dtypes"
   ]
  },
  {
   "cell_type": "code",
   "execution_count": 6,
   "metadata": {},
   "outputs": [
    {
     "data": {
      "text/plain": [
       "Index(['Cause', 'Fuels Involved', 'Incident Type', 'Perimeter Contained (%)',\n",
       "       'Personnel Involved', 'Fire Size (Acres)', 'Latitude', 'Longitude',\n",
       "       'ISO Date', 'Region'],\n",
       "      dtype='object')"
      ]
     },
     "execution_count": 6,
     "metadata": {},
     "output_type": "execute_result"
    }
   ],
   "source": [
    "wildf.columns"
   ]
  },
  {
   "cell_type": "code",
   "execution_count": 7,
   "metadata": {},
   "outputs": [
    {
     "data": {
      "text/html": [
       "<div>\n",
       "<style scoped>\n",
       "    .dataframe tbody tr th:only-of-type {\n",
       "        vertical-align: middle;\n",
       "    }\n",
       "\n",
       "    .dataframe tbody tr th {\n",
       "        vertical-align: top;\n",
       "    }\n",
       "\n",
       "    .dataframe thead th {\n",
       "        text-align: right;\n",
       "    }\n",
       "</style>\n",
       "<table border=\"1\" class=\"dataframe\">\n",
       "  <thead>\n",
       "    <tr style=\"text-align: right;\">\n",
       "      <th></th>\n",
       "      <th>Perimeter Contained (%)</th>\n",
       "      <th>Personnel Involved</th>\n",
       "      <th>Fire Size (Acres)</th>\n",
       "      <th>Latitude</th>\n",
       "      <th>Longitude</th>\n",
       "    </tr>\n",
       "  </thead>\n",
       "  <tbody>\n",
       "    <tr>\n",
       "      <th>count</th>\n",
       "      <td>82.000000</td>\n",
       "      <td>73.000000</td>\n",
       "      <td>92.000000</td>\n",
       "      <td>60.000000</td>\n",
       "      <td>60.000000</td>\n",
       "    </tr>\n",
       "    <tr>\n",
       "      <th>mean</th>\n",
       "      <td>83.951220</td>\n",
       "      <td>177.246575</td>\n",
       "      <td>11247.043478</td>\n",
       "      <td>38.619400</td>\n",
       "      <td>-111.151850</td>\n",
       "    </tr>\n",
       "    <tr>\n",
       "      <th>std</th>\n",
       "      <td>27.603857</td>\n",
       "      <td>288.721549</td>\n",
       "      <td>27893.111450</td>\n",
       "      <td>6.304743</td>\n",
       "      <td>8.795239</td>\n",
       "    </tr>\n",
       "    <tr>\n",
       "      <th>min</th>\n",
       "      <td>3.000000</td>\n",
       "      <td>1.000000</td>\n",
       "      <td>1.000000</td>\n",
       "      <td>30.093000</td>\n",
       "      <td>-149.579000</td>\n",
       "    </tr>\n",
       "    <tr>\n",
       "      <th>25%</th>\n",
       "      <td>84.250000</td>\n",
       "      <td>20.000000</td>\n",
       "      <td>177.750000</td>\n",
       "      <td>33.527750</td>\n",
       "      <td>-117.335750</td>\n",
       "    </tr>\n",
       "    <tr>\n",
       "      <th>50%</th>\n",
       "      <td>98.500000</td>\n",
       "      <td>92.000000</td>\n",
       "      <td>1383.500000</td>\n",
       "      <td>37.918500</td>\n",
       "      <td>-110.359000</td>\n",
       "    </tr>\n",
       "    <tr>\n",
       "      <th>75%</th>\n",
       "      <td>100.000000</td>\n",
       "      <td>201.000000</td>\n",
       "      <td>8989.250000</td>\n",
       "      <td>42.656250</td>\n",
       "      <td>-106.614750</td>\n",
       "    </tr>\n",
       "    <tr>\n",
       "      <th>max</th>\n",
       "      <td>100.000000</td>\n",
       "      <td>1563.000000</td>\n",
       "      <td>193455.000000</td>\n",
       "      <td>65.854000</td>\n",
       "      <td>-97.203000</td>\n",
       "    </tr>\n",
       "  </tbody>\n",
       "</table>\n",
       "</div>"
      ],
      "text/plain": [
       "       Perimeter Contained (%)  Personnel Involved  Fire Size (Acres)  \\\n",
       "count                82.000000           73.000000          92.000000   \n",
       "mean                 83.951220          177.246575       11247.043478   \n",
       "std                  27.603857          288.721549       27893.111450   \n",
       "min                   3.000000            1.000000           1.000000   \n",
       "25%                  84.250000           20.000000         177.750000   \n",
       "50%                  98.500000           92.000000        1383.500000   \n",
       "75%                 100.000000          201.000000        8989.250000   \n",
       "max                 100.000000         1563.000000      193455.000000   \n",
       "\n",
       "        Latitude   Longitude  \n",
       "count  60.000000   60.000000  \n",
       "mean   38.619400 -111.151850  \n",
       "std     6.304743    8.795239  \n",
       "min    30.093000 -149.579000  \n",
       "25%    33.527750 -117.335750  \n",
       "50%    37.918500 -110.359000  \n",
       "75%    42.656250 -106.614750  \n",
       "max    65.854000  -97.203000  "
      ]
     },
     "execution_count": 7,
     "metadata": {},
     "output_type": "execute_result"
    }
   ],
   "source": [
    "wildf.describe()"
   ]
  },
  {
   "cell_type": "code",
   "execution_count": null,
   "metadata": {},
   "outputs": [],
   "source": []
  }
 ],
 "metadata": {
  "kernelspec": {
   "display_name": "Python 3",
   "language": "python",
   "name": "python3"
  },
  "language_info": {
   "codemirror_mode": {
    "name": "ipython",
    "version": 3
   },
   "file_extension": ".py",
   "mimetype": "text/x-python",
   "name": "python",
   "nbconvert_exporter": "python",
   "pygments_lexer": "ipython3",
   "version": "3.7.6"
  }
 },
 "nbformat": 4,
 "nbformat_minor": 4
}
